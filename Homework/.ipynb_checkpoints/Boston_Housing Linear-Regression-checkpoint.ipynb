{
 "cells": [
  {
   "cell_type": "markdown",
   "metadata": {},
   "source": [
    "## Homework Linear Regression\n",
    "\n",
    "- The dataset you are working is Boston Housing Price\n",
    "\n",
    "- The Boston_Housing_Prices dataset is a famous dataset usually used for learning or benchmarking regression techniques. This dataset contains 14 variables, one of which (MEDV, median value of home) we'll use as the target. \n",
    "\n",
    "- For this assignment, your task is to:\n",
    "\n",
    "1- Read in the dataset using sklearn's load_boston() function (found in sklearn.datasets) \n",
    "\n",
    "2- Perform some basic exploratory data analysis to get a feel for the data. Graph some stuff! \n",
    "\n",
    "3- Create a correlation heatmap to check to see how highly correlated our predictor variables (features) are (Remember, if our predictors are highly correlated, this is bad.)\n",
    "\n",
    "4- Train the model based on the train set. Use 75 percent of the data for train part. Use 25 percent of the data for test part.\n",
    "\n",
    "Hint: `from sklearn.model_selection import train_test_split`\n",
    "\n",
    "Hint: `X_train, X_test, y_train, y_test = train_test_split(X, y, test_size=0.25, random_state=0)`\n",
    "\n",
    "5 -Make predictions on your test set (X_test) and see how well it compares to the actual targets (y_test) from the test set.\n",
    "\n",
    "6- Compute, Mean-Square-Error (MSE) and R Squared score of your Model \n",
    "\n",
    "Hint: `from sklearn.metrics import r2_score`\n",
    "\n",
    "Hint: `from sklearn.metrics import mean_squared_error`"
   ]
  },
  {
   "cell_type": "code",
   "execution_count": 2,
   "metadata": {},
   "outputs": [
    {
     "name": "stdout",
     "output_type": "stream",
     "text": [
      "      CRIM    ZN  INDUS  CHAS    NOX     RM   AGE     DIS  RAD    TAX  \\\n",
      "0  0.00632  18.0   2.31   0.0  0.538  6.575  65.2  4.0900  1.0  296.0   \n",
      "1  0.02731   0.0   7.07   0.0  0.469  6.421  78.9  4.9671  2.0  242.0   \n",
      "2  0.02729   0.0   7.07   0.0  0.469  7.185  61.1  4.9671  2.0  242.0   \n",
      "3  0.03237   0.0   2.18   0.0  0.458  6.998  45.8  6.0622  3.0  222.0   \n",
      "4  0.06905   0.0   2.18   0.0  0.458  7.147  54.2  6.0622  3.0  222.0   \n",
      "\n",
      "   PTRATIO       B  LSTAT  PRICE  \n",
      "0     15.3  396.90   4.98   24.0  \n",
      "1     17.8  396.90   9.14   21.6  \n",
      "2     17.8  392.83   4.03   34.7  \n",
      "3     18.7  394.63   2.94   33.4  \n",
      "4     18.7  396.90   5.33   36.2  \n"
     ]
    }
   ],
   "source": [
    "# import the load_boston() function from sklearn.datasets\n",
    "from sklearn.datasets import load_boston\n",
    "import pandas as pd\n",
    "import seaborn as sns\n",
    "import matplotlib.pyplot as plt \n",
    "\n",
    "boston = load_boston()\n",
    "\n",
    "# print(boston.data)\n",
    "# print(boston.data.shape)\n",
    "\n",
    "bos = pd.DataFrame(boston.data)\n",
    "bos.columns = boston.feature_names\n",
    "bos['PRICE'] = boston.target # our target value is price \n",
    "\n",
    "print(bos.head())"
   ]
  },
  {
   "cell_type": "markdown",
   "metadata": {},
   "source": [
    "## Data Analysis"
   ]
  },
  {
   "cell_type": "code",
   "execution_count": 3,
   "metadata": {},
   "outputs": [
    {
     "data": {
      "text/html": [
       "<div>\n",
       "<style scoped>\n",
       "    .dataframe tbody tr th:only-of-type {\n",
       "        vertical-align: middle;\n",
       "    }\n",
       "\n",
       "    .dataframe tbody tr th {\n",
       "        vertical-align: top;\n",
       "    }\n",
       "\n",
       "    .dataframe thead th {\n",
       "        text-align: right;\n",
       "    }\n",
       "</style>\n",
       "<table border=\"1\" class=\"dataframe\">\n",
       "  <thead>\n",
       "    <tr style=\"text-align: right;\">\n",
       "      <th></th>\n",
       "      <th>CRIM</th>\n",
       "      <th>ZN</th>\n",
       "      <th>INDUS</th>\n",
       "      <th>CHAS</th>\n",
       "      <th>NOX</th>\n",
       "      <th>RM</th>\n",
       "      <th>AGE</th>\n",
       "      <th>DIS</th>\n",
       "      <th>RAD</th>\n",
       "      <th>TAX</th>\n",
       "      <th>PTRATIO</th>\n",
       "      <th>B</th>\n",
       "      <th>LSTAT</th>\n",
       "      <th>PRICE</th>\n",
       "    </tr>\n",
       "  </thead>\n",
       "  <tbody>\n",
       "    <tr>\n",
       "      <th>count</th>\n",
       "      <td>506.000000</td>\n",
       "      <td>506.000000</td>\n",
       "      <td>506.000000</td>\n",
       "      <td>506.000000</td>\n",
       "      <td>506.000000</td>\n",
       "      <td>506.000000</td>\n",
       "      <td>506.000000</td>\n",
       "      <td>506.000000</td>\n",
       "      <td>506.000000</td>\n",
       "      <td>506.000000</td>\n",
       "      <td>506.000000</td>\n",
       "      <td>506.000000</td>\n",
       "      <td>506.000000</td>\n",
       "      <td>506.000000</td>\n",
       "    </tr>\n",
       "    <tr>\n",
       "      <th>mean</th>\n",
       "      <td>3.613524</td>\n",
       "      <td>11.363636</td>\n",
       "      <td>11.136779</td>\n",
       "      <td>0.069170</td>\n",
       "      <td>0.554695</td>\n",
       "      <td>6.284634</td>\n",
       "      <td>68.574901</td>\n",
       "      <td>3.795043</td>\n",
       "      <td>9.549407</td>\n",
       "      <td>408.237154</td>\n",
       "      <td>18.455534</td>\n",
       "      <td>356.674032</td>\n",
       "      <td>12.653063</td>\n",
       "      <td>22.532806</td>\n",
       "    </tr>\n",
       "    <tr>\n",
       "      <th>std</th>\n",
       "      <td>8.601545</td>\n",
       "      <td>23.322453</td>\n",
       "      <td>6.860353</td>\n",
       "      <td>0.253994</td>\n",
       "      <td>0.115878</td>\n",
       "      <td>0.702617</td>\n",
       "      <td>28.148861</td>\n",
       "      <td>2.105710</td>\n",
       "      <td>8.707259</td>\n",
       "      <td>168.537116</td>\n",
       "      <td>2.164946</td>\n",
       "      <td>91.294864</td>\n",
       "      <td>7.141062</td>\n",
       "      <td>9.197104</td>\n",
       "    </tr>\n",
       "    <tr>\n",
       "      <th>min</th>\n",
       "      <td>0.006320</td>\n",
       "      <td>0.000000</td>\n",
       "      <td>0.460000</td>\n",
       "      <td>0.000000</td>\n",
       "      <td>0.385000</td>\n",
       "      <td>3.561000</td>\n",
       "      <td>2.900000</td>\n",
       "      <td>1.129600</td>\n",
       "      <td>1.000000</td>\n",
       "      <td>187.000000</td>\n",
       "      <td>12.600000</td>\n",
       "      <td>0.320000</td>\n",
       "      <td>1.730000</td>\n",
       "      <td>5.000000</td>\n",
       "    </tr>\n",
       "    <tr>\n",
       "      <th>25%</th>\n",
       "      <td>0.082045</td>\n",
       "      <td>0.000000</td>\n",
       "      <td>5.190000</td>\n",
       "      <td>0.000000</td>\n",
       "      <td>0.449000</td>\n",
       "      <td>5.885500</td>\n",
       "      <td>45.025000</td>\n",
       "      <td>2.100175</td>\n",
       "      <td>4.000000</td>\n",
       "      <td>279.000000</td>\n",
       "      <td>17.400000</td>\n",
       "      <td>375.377500</td>\n",
       "      <td>6.950000</td>\n",
       "      <td>17.025000</td>\n",
       "    </tr>\n",
       "    <tr>\n",
       "      <th>50%</th>\n",
       "      <td>0.256510</td>\n",
       "      <td>0.000000</td>\n",
       "      <td>9.690000</td>\n",
       "      <td>0.000000</td>\n",
       "      <td>0.538000</td>\n",
       "      <td>6.208500</td>\n",
       "      <td>77.500000</td>\n",
       "      <td>3.207450</td>\n",
       "      <td>5.000000</td>\n",
       "      <td>330.000000</td>\n",
       "      <td>19.050000</td>\n",
       "      <td>391.440000</td>\n",
       "      <td>11.360000</td>\n",
       "      <td>21.200000</td>\n",
       "    </tr>\n",
       "    <tr>\n",
       "      <th>75%</th>\n",
       "      <td>3.677083</td>\n",
       "      <td>12.500000</td>\n",
       "      <td>18.100000</td>\n",
       "      <td>0.000000</td>\n",
       "      <td>0.624000</td>\n",
       "      <td>6.623500</td>\n",
       "      <td>94.075000</td>\n",
       "      <td>5.188425</td>\n",
       "      <td>24.000000</td>\n",
       "      <td>666.000000</td>\n",
       "      <td>20.200000</td>\n",
       "      <td>396.225000</td>\n",
       "      <td>16.955000</td>\n",
       "      <td>25.000000</td>\n",
       "    </tr>\n",
       "    <tr>\n",
       "      <th>max</th>\n",
       "      <td>88.976200</td>\n",
       "      <td>100.000000</td>\n",
       "      <td>27.740000</td>\n",
       "      <td>1.000000</td>\n",
       "      <td>0.871000</td>\n",
       "      <td>8.780000</td>\n",
       "      <td>100.000000</td>\n",
       "      <td>12.126500</td>\n",
       "      <td>24.000000</td>\n",
       "      <td>711.000000</td>\n",
       "      <td>22.000000</td>\n",
       "      <td>396.900000</td>\n",
       "      <td>37.970000</td>\n",
       "      <td>50.000000</td>\n",
       "    </tr>\n",
       "  </tbody>\n",
       "</table>\n",
       "</div>"
      ],
      "text/plain": [
       "             CRIM          ZN       INDUS        CHAS         NOX          RM  \\\n",
       "count  506.000000  506.000000  506.000000  506.000000  506.000000  506.000000   \n",
       "mean     3.613524   11.363636   11.136779    0.069170    0.554695    6.284634   \n",
       "std      8.601545   23.322453    6.860353    0.253994    0.115878    0.702617   \n",
       "min      0.006320    0.000000    0.460000    0.000000    0.385000    3.561000   \n",
       "25%      0.082045    0.000000    5.190000    0.000000    0.449000    5.885500   \n",
       "50%      0.256510    0.000000    9.690000    0.000000    0.538000    6.208500   \n",
       "75%      3.677083   12.500000   18.100000    0.000000    0.624000    6.623500   \n",
       "max     88.976200  100.000000   27.740000    1.000000    0.871000    8.780000   \n",
       "\n",
       "              AGE         DIS         RAD         TAX     PTRATIO           B  \\\n",
       "count  506.000000  506.000000  506.000000  506.000000  506.000000  506.000000   \n",
       "mean    68.574901    3.795043    9.549407  408.237154   18.455534  356.674032   \n",
       "std     28.148861    2.105710    8.707259  168.537116    2.164946   91.294864   \n",
       "min      2.900000    1.129600    1.000000  187.000000   12.600000    0.320000   \n",
       "25%     45.025000    2.100175    4.000000  279.000000   17.400000  375.377500   \n",
       "50%     77.500000    3.207450    5.000000  330.000000   19.050000  391.440000   \n",
       "75%     94.075000    5.188425   24.000000  666.000000   20.200000  396.225000   \n",
       "max    100.000000   12.126500   24.000000  711.000000   22.000000  396.900000   \n",
       "\n",
       "            LSTAT       PRICE  \n",
       "count  506.000000  506.000000  \n",
       "mean    12.653063   22.532806  \n",
       "std      7.141062    9.197104  \n",
       "min      1.730000    5.000000  \n",
       "25%      6.950000   17.025000  \n",
       "50%     11.360000   21.200000  \n",
       "75%     16.955000   25.000000  \n",
       "max     37.970000   50.000000  "
      ]
     },
     "execution_count": 3,
     "metadata": {},
     "output_type": "execute_result"
    }
   ],
   "source": [
    "bos.describe(include='all')"
   ]
  },
  {
   "cell_type": "code",
   "execution_count": 4,
   "metadata": {},
   "outputs": [
    {
     "data": {
      "text/html": [
       "<style  type=\"text/css\" >\n",
       "    #T_bcf463d6_7a2b_11ea_a2e2_48bf6beebc3crow0_col0 {\n",
       "            background-color:  #b40426;\n",
       "            color:  #f1f1f1;\n",
       "        }    #T_bcf463d6_7a2b_11ea_a2e2_48bf6beebc3crow0_col1 {\n",
       "            background-color:  #88abfd;\n",
       "            color:  #000000;\n",
       "        }    #T_bcf463d6_7a2b_11ea_a2e2_48bf6beebc3crow0_col2 {\n",
       "            background-color:  #f7bca1;\n",
       "            color:  #000000;\n",
       "        }    #T_bcf463d6_7a2b_11ea_a2e2_48bf6beebc3crow0_col3 {\n",
       "            background-color:  #4b64d5;\n",
       "            color:  #f1f1f1;\n",
       "        }    #T_bcf463d6_7a2b_11ea_a2e2_48bf6beebc3crow0_col4 {\n",
       "            background-color:  #f7b599;\n",
       "            color:  #000000;\n",
       "        }    #T_bcf463d6_7a2b_11ea_a2e2_48bf6beebc3crow0_col5 {\n",
       "            background-color:  #8badfd;\n",
       "            color:  #000000;\n",
       "        }    #T_bcf463d6_7a2b_11ea_a2e2_48bf6beebc3crow0_col6 {\n",
       "            background-color:  #f5c2aa;\n",
       "            color:  #000000;\n",
       "        }    #T_bcf463d6_7a2b_11ea_a2e2_48bf6beebc3crow0_col7 {\n",
       "            background-color:  #82a6fb;\n",
       "            color:  #000000;\n",
       "        }    #T_bcf463d6_7a2b_11ea_a2e2_48bf6beebc3crow0_col8 {\n",
       "            background-color:  #f49a7b;\n",
       "            color:  #000000;\n",
       "        }    #T_bcf463d6_7a2b_11ea_a2e2_48bf6beebc3crow0_col9 {\n",
       "            background-color:  #f6a283;\n",
       "            color:  #000000;\n",
       "        }    #T_bcf463d6_7a2b_11ea_a2e2_48bf6beebc3crow0_col10 {\n",
       "            background-color:  #e4d9d2;\n",
       "            color:  #000000;\n",
       "        }    #T_bcf463d6_7a2b_11ea_a2e2_48bf6beebc3crow0_col11 {\n",
       "            background-color:  #465ecf;\n",
       "            color:  #f1f1f1;\n",
       "        }    #T_bcf463d6_7a2b_11ea_a2e2_48bf6beebc3crow0_col12 {\n",
       "            background-color:  #f7b194;\n",
       "            color:  #000000;\n",
       "        }    #T_bcf463d6_7a2b_11ea_a2e2_48bf6beebc3crow0_col13 {\n",
       "            background-color:  #7b9ff9;\n",
       "            color:  #000000;\n",
       "        }    #T_bcf463d6_7a2b_11ea_a2e2_48bf6beebc3crow1_col0 {\n",
       "            background-color:  #6485ec;\n",
       "            color:  #000000;\n",
       "        }    #T_bcf463d6_7a2b_11ea_a2e2_48bf6beebc3crow1_col1 {\n",
       "            background-color:  #b40426;\n",
       "            color:  #f1f1f1;\n",
       "        }    #T_bcf463d6_7a2b_11ea_a2e2_48bf6beebc3crow1_col2 {\n",
       "            background-color:  #5a78e4;\n",
       "            color:  #000000;\n",
       "        }    #T_bcf463d6_7a2b_11ea_a2e2_48bf6beebc3crow1_col3 {\n",
       "            background-color:  #4f69d9;\n",
       "            color:  #000000;\n",
       "        }    #T_bcf463d6_7a2b_11ea_a2e2_48bf6beebc3crow1_col4 {\n",
       "            background-color:  #6788ee;\n",
       "            color:  #000000;\n",
       "        }    #T_bcf463d6_7a2b_11ea_a2e2_48bf6beebc3crow1_col5 {\n",
       "            background-color:  #edd1c2;\n",
       "            color:  #000000;\n",
       "        }    #T_bcf463d6_7a2b_11ea_a2e2_48bf6beebc3crow1_col6 {\n",
       "            background-color:  #5a78e4;\n",
       "            color:  #000000;\n",
       "        }    #T_bcf463d6_7a2b_11ea_a2e2_48bf6beebc3crow1_col7 {\n",
       "            background-color:  #ec7f63;\n",
       "            color:  #000000;\n",
       "        }    #T_bcf463d6_7a2b_11ea_a2e2_48bf6beebc3crow1_col8 {\n",
       "            background-color:  #6180e9;\n",
       "            color:  #000000;\n",
       "        }    #T_bcf463d6_7a2b_11ea_a2e2_48bf6beebc3crow1_col9 {\n",
       "            background-color:  #6788ee;\n",
       "            color:  #000000;\n",
       "        }    #T_bcf463d6_7a2b_11ea_a2e2_48bf6beebc3crow1_col10 {\n",
       "            background-color:  #516ddb;\n",
       "            color:  #000000;\n",
       "        }    #T_bcf463d6_7a2b_11ea_a2e2_48bf6beebc3crow1_col11 {\n",
       "            background-color:  #c9d7f0;\n",
       "            color:  #000000;\n",
       "        }    #T_bcf463d6_7a2b_11ea_a2e2_48bf6beebc3crow1_col12 {\n",
       "            background-color:  #7699f6;\n",
       "            color:  #000000;\n",
       "        }    #T_bcf463d6_7a2b_11ea_a2e2_48bf6beebc3crow1_col13 {\n",
       "            background-color:  #f5c2aa;\n",
       "            color:  #000000;\n",
       "        }    #T_bcf463d6_7a2b_11ea_a2e2_48bf6beebc3crow2_col0 {\n",
       "            background-color:  #edd1c2;\n",
       "            color:  #000000;\n",
       "        }    #T_bcf463d6_7a2b_11ea_a2e2_48bf6beebc3crow2_col1 {\n",
       "            background-color:  #4055c8;\n",
       "            color:  #f1f1f1;\n",
       "        }    #T_bcf463d6_7a2b_11ea_a2e2_48bf6beebc3crow2_col2 {\n",
       "            background-color:  #b40426;\n",
       "            color:  #f1f1f1;\n",
       "        }    #T_bcf463d6_7a2b_11ea_a2e2_48bf6beebc3crow2_col3 {\n",
       "            background-color:  #6f92f3;\n",
       "            color:  #000000;\n",
       "        }    #T_bcf463d6_7a2b_11ea_a2e2_48bf6beebc3crow2_col4 {\n",
       "            background-color:  #e0654f;\n",
       "            color:  #000000;\n",
       "        }    #T_bcf463d6_7a2b_11ea_a2e2_48bf6beebc3crow2_col5 {\n",
       "            background-color:  #6687ed;\n",
       "            color:  #000000;\n",
       "        }    #T_bcf463d6_7a2b_11ea_a2e2_48bf6beebc3crow2_col6 {\n",
       "            background-color:  #ee8669;\n",
       "            color:  #000000;\n",
       "        }    #T_bcf463d6_7a2b_11ea_a2e2_48bf6beebc3crow2_col7 {\n",
       "            background-color:  #445acc;\n",
       "            color:  #f1f1f1;\n",
       "        }    #T_bcf463d6_7a2b_11ea_a2e2_48bf6beebc3crow2_col8 {\n",
       "            background-color:  #f6a283;\n",
       "            color:  #000000;\n",
       "        }    #T_bcf463d6_7a2b_11ea_a2e2_48bf6beebc3crow2_col9 {\n",
       "            background-color:  #ea7b60;\n",
       "            color:  #000000;\n",
       "        }    #T_bcf463d6_7a2b_11ea_a2e2_48bf6beebc3crow2_col10 {\n",
       "            background-color:  #f1cdba;\n",
       "            color:  #000000;\n",
       "        }    #T_bcf463d6_7a2b_11ea_a2e2_48bf6beebc3crow2_col11 {\n",
       "            background-color:  #4c66d6;\n",
       "            color:  #000000;\n",
       "        }    #T_bcf463d6_7a2b_11ea_a2e2_48bf6beebc3crow2_col12 {\n",
       "            background-color:  #f29072;\n",
       "            color:  #000000;\n",
       "        }    #T_bcf463d6_7a2b_11ea_a2e2_48bf6beebc3crow2_col13 {\n",
       "            background-color:  #688aef;\n",
       "            color:  #000000;\n",
       "        }    #T_bcf463d6_7a2b_11ea_a2e2_48bf6beebc3crow3_col0 {\n",
       "            background-color:  #89acfd;\n",
       "            color:  #000000;\n",
       "        }    #T_bcf463d6_7a2b_11ea_a2e2_48bf6beebc3crow3_col1 {\n",
       "            background-color:  #aac7fd;\n",
       "            color:  #000000;\n",
       "        }    #T_bcf463d6_7a2b_11ea_a2e2_48bf6beebc3crow3_col2 {\n",
       "            background-color:  #cfdaea;\n",
       "            color:  #000000;\n",
       "        }    #T_bcf463d6_7a2b_11ea_a2e2_48bf6beebc3crow3_col3 {\n",
       "            background-color:  #b40426;\n",
       "            color:  #f1f1f1;\n",
       "        }    #T_bcf463d6_7a2b_11ea_a2e2_48bf6beebc3crow3_col4 {\n",
       "            background-color:  #d9dce1;\n",
       "            color:  #000000;\n",
       "        }    #T_bcf463d6_7a2b_11ea_a2e2_48bf6beebc3crow3_col5 {\n",
       "            background-color:  #cbd8ee;\n",
       "            color:  #000000;\n",
       "        }    #T_bcf463d6_7a2b_11ea_a2e2_48bf6beebc3crow3_col6 {\n",
       "            background-color:  #d7dce3;\n",
       "            color:  #000000;\n",
       "        }    #T_bcf463d6_7a2b_11ea_a2e2_48bf6beebc3crow3_col7 {\n",
       "            background-color:  #b9d0f9;\n",
       "            color:  #000000;\n",
       "        }    #T_bcf463d6_7a2b_11ea_a2e2_48bf6beebc3crow3_col8 {\n",
       "            background-color:  #a7c5fe;\n",
       "            color:  #000000;\n",
       "        }    #T_bcf463d6_7a2b_11ea_a2e2_48bf6beebc3crow3_col9 {\n",
       "            background-color:  #a7c5fe;\n",
       "            color:  #000000;\n",
       "        }    #T_bcf463d6_7a2b_11ea_a2e2_48bf6beebc3crow3_col10 {\n",
       "            background-color:  #8fb1fe;\n",
       "            color:  #000000;\n",
       "        }    #T_bcf463d6_7a2b_11ea_a2e2_48bf6beebc3crow3_col11 {\n",
       "            background-color:  #adc9fd;\n",
       "            color:  #000000;\n",
       "        }    #T_bcf463d6_7a2b_11ea_a2e2_48bf6beebc3crow3_col12 {\n",
       "            background-color:  #bed2f6;\n",
       "            color:  #000000;\n",
       "        }    #T_bcf463d6_7a2b_11ea_a2e2_48bf6beebc3crow3_col13 {\n",
       "            background-color:  #e3d9d3;\n",
       "            color:  #000000;\n",
       "        }    #T_bcf463d6_7a2b_11ea_a2e2_48bf6beebc3crow4_col0 {\n",
       "            background-color:  #efcebd;\n",
       "            color:  #000000;\n",
       "        }    #T_bcf463d6_7a2b_11ea_a2e2_48bf6beebc3crow4_col1 {\n",
       "            background-color:  #445acc;\n",
       "            color:  #f1f1f1;\n",
       "        }    #T_bcf463d6_7a2b_11ea_a2e2_48bf6beebc3crow4_col2 {\n",
       "            background-color:  #e16751;\n",
       "            color:  #000000;\n",
       "        }    #T_bcf463d6_7a2b_11ea_a2e2_48bf6beebc3crow4_col3 {\n",
       "            background-color:  #779af7;\n",
       "            color:  #000000;\n",
       "        }    #T_bcf463d6_7a2b_11ea_a2e2_48bf6beebc3crow4_col4 {\n",
       "            background-color:  #b40426;\n",
       "            color:  #f1f1f1;\n",
       "        }    #T_bcf463d6_7a2b_11ea_a2e2_48bf6beebc3crow4_col5 {\n",
       "            background-color:  #799cf8;\n",
       "            color:  #000000;\n",
       "        }    #T_bcf463d6_7a2b_11ea_a2e2_48bf6beebc3crow4_col6 {\n",
       "            background-color:  #e46e56;\n",
       "            color:  #000000;\n",
       "        }    #T_bcf463d6_7a2b_11ea_a2e2_48bf6beebc3crow4_col7 {\n",
       "            background-color:  #3b4cc0;\n",
       "            color:  #f1f1f1;\n",
       "        }    #T_bcf463d6_7a2b_11ea_a2e2_48bf6beebc3crow4_col8 {\n",
       "            background-color:  #f59d7e;\n",
       "            color:  #000000;\n",
       "        }    #T_bcf463d6_7a2b_11ea_a2e2_48bf6beebc3crow4_col9 {\n",
       "            background-color:  #f08b6e;\n",
       "            color:  #000000;\n",
       "        }    #T_bcf463d6_7a2b_11ea_a2e2_48bf6beebc3crow4_col10 {\n",
       "            background-color:  #d3dbe7;\n",
       "            color:  #000000;\n",
       "        }    #T_bcf463d6_7a2b_11ea_a2e2_48bf6beebc3crow4_col11 {\n",
       "            background-color:  #485fd1;\n",
       "            color:  #f1f1f1;\n",
       "        }    #T_bcf463d6_7a2b_11ea_a2e2_48bf6beebc3crow4_col12 {\n",
       "            background-color:  #f39475;\n",
       "            color:  #000000;\n",
       "        }    #T_bcf463d6_7a2b_11ea_a2e2_48bf6beebc3crow4_col13 {\n",
       "            background-color:  #7396f5;\n",
       "            color:  #000000;\n",
       "        }    #T_bcf463d6_7a2b_11ea_a2e2_48bf6beebc3crow5_col0 {\n",
       "            background-color:  #6180e9;\n",
       "            color:  #000000;\n",
       "        }    #T_bcf463d6_7a2b_11ea_a2e2_48bf6beebc3crow5_col1 {\n",
       "            background-color:  #ebd3c6;\n",
       "            color:  #000000;\n",
       "        }    #T_bcf463d6_7a2b_11ea_a2e2_48bf6beebc3crow5_col2 {\n",
       "            background-color:  #7699f6;\n",
       "            color:  #000000;\n",
       "        }    #T_bcf463d6_7a2b_11ea_a2e2_48bf6beebc3crow5_col3 {\n",
       "            background-color:  #779af7;\n",
       "            color:  #000000;\n",
       "        }    #T_bcf463d6_7a2b_11ea_a2e2_48bf6beebc3crow5_col4 {\n",
       "            background-color:  #92b4fe;\n",
       "            color:  #000000;\n",
       "        }    #T_bcf463d6_7a2b_11ea_a2e2_48bf6beebc3crow5_col5 {\n",
       "            background-color:  #b40426;\n",
       "            color:  #f1f1f1;\n",
       "        }    #T_bcf463d6_7a2b_11ea_a2e2_48bf6beebc3crow5_col6 {\n",
       "            background-color:  #9bbcff;\n",
       "            color:  #000000;\n",
       "        }    #T_bcf463d6_7a2b_11ea_a2e2_48bf6beebc3crow5_col7 {\n",
       "            background-color:  #ead5c9;\n",
       "            color:  #000000;\n",
       "        }    #T_bcf463d6_7a2b_11ea_a2e2_48bf6beebc3crow5_col8 {\n",
       "            background-color:  #779af7;\n",
       "            color:  #000000;\n",
       "        }    #T_bcf463d6_7a2b_11ea_a2e2_48bf6beebc3crow5_col9 {\n",
       "            background-color:  #6c8ff1;\n",
       "            color:  #000000;\n",
       "        }    #T_bcf463d6_7a2b_11ea_a2e2_48bf6beebc3crow5_col10 {\n",
       "            background-color:  #5977e3;\n",
       "            color:  #000000;\n",
       "        }    #T_bcf463d6_7a2b_11ea_a2e2_48bf6beebc3crow5_col11 {\n",
       "            background-color:  #bfd3f6;\n",
       "            color:  #000000;\n",
       "        }    #T_bcf463d6_7a2b_11ea_a2e2_48bf6beebc3crow5_col12 {\n",
       "            background-color:  #506bda;\n",
       "            color:  #000000;\n",
       "        }    #T_bcf463d6_7a2b_11ea_a2e2_48bf6beebc3crow5_col13 {\n",
       "            background-color:  #e9785d;\n",
       "            color:  #000000;\n",
       "        }    #T_bcf463d6_7a2b_11ea_a2e2_48bf6beebc3crow6_col0 {\n",
       "            background-color:  #e5d8d1;\n",
       "            color:  #000000;\n",
       "        }    #T_bcf463d6_7a2b_11ea_a2e2_48bf6beebc3crow6_col1 {\n",
       "            background-color:  #3b4cc0;\n",
       "            color:  #f1f1f1;\n",
       "        }    #T_bcf463d6_7a2b_11ea_a2e2_48bf6beebc3crow6_col2 {\n",
       "            background-color:  #ef886b;\n",
       "            color:  #000000;\n",
       "        }    #T_bcf463d6_7a2b_11ea_a2e2_48bf6beebc3crow6_col3 {\n",
       "            background-color:  #7699f6;\n",
       "            color:  #000000;\n",
       "        }    #T_bcf463d6_7a2b_11ea_a2e2_48bf6beebc3crow6_col4 {\n",
       "            background-color:  #e36c55;\n",
       "            color:  #000000;\n",
       "        }    #T_bcf463d6_7a2b_11ea_a2e2_48bf6beebc3crow6_col5 {\n",
       "            background-color:  #86a9fc;\n",
       "            color:  #000000;\n",
       "        }    #T_bcf463d6_7a2b_11ea_a2e2_48bf6beebc3crow6_col6 {\n",
       "            background-color:  #b40426;\n",
       "            color:  #f1f1f1;\n",
       "        }    #T_bcf463d6_7a2b_11ea_a2e2_48bf6beebc3crow6_col7 {\n",
       "            background-color:  #3e51c5;\n",
       "            color:  #f1f1f1;\n",
       "        }    #T_bcf463d6_7a2b_11ea_a2e2_48bf6beebc3crow6_col8 {\n",
       "            background-color:  #f5c1a9;\n",
       "            color:  #000000;\n",
       "        }    #T_bcf463d6_7a2b_11ea_a2e2_48bf6beebc3crow6_col9 {\n",
       "            background-color:  #f7b497;\n",
       "            color:  #000000;\n",
       "        }    #T_bcf463d6_7a2b_11ea_a2e2_48bf6beebc3crow6_col10 {\n",
       "            background-color:  #dfdbd9;\n",
       "            color:  #000000;\n",
       "        }    #T_bcf463d6_7a2b_11ea_a2e2_48bf6beebc3crow6_col11 {\n",
       "            background-color:  #5f7fe8;\n",
       "            color:  #000000;\n",
       "        }    #T_bcf463d6_7a2b_11ea_a2e2_48bf6beebc3crow6_col12 {\n",
       "            background-color:  #f29072;\n",
       "            color:  #000000;\n",
       "        }    #T_bcf463d6_7a2b_11ea_a2e2_48bf6beebc3crow6_col13 {\n",
       "            background-color:  #7ea1fa;\n",
       "            color:  #000000;\n",
       "        }    #T_bcf463d6_7a2b_11ea_a2e2_48bf6beebc3crow7_col0 {\n",
       "            background-color:  #3c4ec2;\n",
       "            color:  #f1f1f1;\n",
       "        }    #T_bcf463d6_7a2b_11ea_a2e2_48bf6beebc3crow7_col1 {\n",
       "            background-color:  #f08a6c;\n",
       "            color:  #000000;\n",
       "        }    #T_bcf463d6_7a2b_11ea_a2e2_48bf6beebc3crow7_col2 {\n",
       "            background-color:  #3b4cc0;\n",
       "            color:  #f1f1f1;\n",
       "        }    #T_bcf463d6_7a2b_11ea_a2e2_48bf6beebc3crow7_col3 {\n",
       "            background-color:  #4055c8;\n",
       "            color:  #f1f1f1;\n",
       "        }    #T_bcf463d6_7a2b_11ea_a2e2_48bf6beebc3crow7_col4 {\n",
       "            background-color:  #3b4cc0;\n",
       "            color:  #f1f1f1;\n",
       "        }    #T_bcf463d6_7a2b_11ea_a2e2_48bf6beebc3crow7_col5 {\n",
       "            background-color:  #dedcdb;\n",
       "            color:  #000000;\n",
       "        }    #T_bcf463d6_7a2b_11ea_a2e2_48bf6beebc3crow7_col6 {\n",
       "            background-color:  #3b4cc0;\n",
       "            color:  #f1f1f1;\n",
       "        }    #T_bcf463d6_7a2b_11ea_a2e2_48bf6beebc3crow7_col7 {\n",
       "            background-color:  #b40426;\n",
       "            color:  #f1f1f1;\n",
       "        }    #T_bcf463d6_7a2b_11ea_a2e2_48bf6beebc3crow7_col8 {\n",
       "            background-color:  #3b4cc0;\n",
       "            color:  #f1f1f1;\n",
       "        }    #T_bcf463d6_7a2b_11ea_a2e2_48bf6beebc3crow7_col9 {\n",
       "            background-color:  #3b4cc0;\n",
       "            color:  #f1f1f1;\n",
       "        }    #T_bcf463d6_7a2b_11ea_a2e2_48bf6beebc3crow7_col10 {\n",
       "            background-color:  #7597f6;\n",
       "            color:  #000000;\n",
       "        }    #T_bcf463d6_7a2b_11ea_a2e2_48bf6beebc3crow7_col11 {\n",
       "            background-color:  #dfdbd9;\n",
       "            color:  #000000;\n",
       "        }    #T_bcf463d6_7a2b_11ea_a2e2_48bf6beebc3crow7_col12 {\n",
       "            background-color:  #6687ed;\n",
       "            color:  #000000;\n",
       "        }    #T_bcf463d6_7a2b_11ea_a2e2_48bf6beebc3crow7_col13 {\n",
       "            background-color:  #edd2c3;\n",
       "            color:  #000000;\n",
       "        }    #T_bcf463d6_7a2b_11ea_a2e2_48bf6beebc3crow8_col0 {\n",
       "            background-color:  #f6a283;\n",
       "            color:  #000000;\n",
       "        }    #T_bcf463d6_7a2b_11ea_a2e2_48bf6beebc3crow8_col1 {\n",
       "            background-color:  #6f92f3;\n",
       "            color:  #000000;\n",
       "        }    #T_bcf463d6_7a2b_11ea_a2e2_48bf6beebc3crow8_col2 {\n",
       "            background-color:  #f39475;\n",
       "            color:  #000000;\n",
       "        }    #T_bcf463d6_7a2b_11ea_a2e2_48bf6beebc3crow8_col3 {\n",
       "            background-color:  #5a78e4;\n",
       "            color:  #000000;\n",
       "        }    #T_bcf463d6_7a2b_11ea_a2e2_48bf6beebc3crow8_col4 {\n",
       "            background-color:  #f18d6f;\n",
       "            color:  #000000;\n",
       "        }    #T_bcf463d6_7a2b_11ea_a2e2_48bf6beebc3crow8_col5 {\n",
       "            background-color:  #8db0fe;\n",
       "            color:  #000000;\n",
       "        }    #T_bcf463d6_7a2b_11ea_a2e2_48bf6beebc3crow8_col6 {\n",
       "            background-color:  #f7b093;\n",
       "            color:  #000000;\n",
       "        }    #T_bcf463d6_7a2b_11ea_a2e2_48bf6beebc3crow8_col7 {\n",
       "            background-color:  #6b8df0;\n",
       "            color:  #000000;\n",
       "        }    #T_bcf463d6_7a2b_11ea_a2e2_48bf6beebc3crow8_col8 {\n",
       "            background-color:  #b40426;\n",
       "            color:  #f1f1f1;\n",
       "        }    #T_bcf463d6_7a2b_11ea_a2e2_48bf6beebc3crow8_col9 {\n",
       "            background-color:  #c83836;\n",
       "            color:  #f1f1f1;\n",
       "        }    #T_bcf463d6_7a2b_11ea_a2e2_48bf6beebc3crow8_col10 {\n",
       "            background-color:  #f6bea4;\n",
       "            color:  #000000;\n",
       "        }    #T_bcf463d6_7a2b_11ea_a2e2_48bf6beebc3crow8_col11 {\n",
       "            background-color:  #3b4cc0;\n",
       "            color:  #f1f1f1;\n",
       "        }    #T_bcf463d6_7a2b_11ea_a2e2_48bf6beebc3crow8_col12 {\n",
       "            background-color:  #f7aa8c;\n",
       "            color:  #000000;\n",
       "        }    #T_bcf463d6_7a2b_11ea_a2e2_48bf6beebc3crow8_col13 {\n",
       "            background-color:  #7da0f9;\n",
       "            color:  #000000;\n",
       "        }    #T_bcf463d6_7a2b_11ea_a2e2_48bf6beebc3crow9_col0 {\n",
       "            background-color:  #f7ac8e;\n",
       "            color:  #000000;\n",
       "        }    #T_bcf463d6_7a2b_11ea_a2e2_48bf6beebc3crow9_col1 {\n",
       "            background-color:  #6e90f2;\n",
       "            color:  #000000;\n",
       "        }    #T_bcf463d6_7a2b_11ea_a2e2_48bf6beebc3crow9_col2 {\n",
       "            background-color:  #e67259;\n",
       "            color:  #000000;\n",
       "        }    #T_bcf463d6_7a2b_11ea_a2e2_48bf6beebc3crow9_col3 {\n",
       "            background-color:  #516ddb;\n",
       "            color:  #000000;\n",
       "        }    #T_bcf463d6_7a2b_11ea_a2e2_48bf6beebc3crow9_col4 {\n",
       "            background-color:  #ec7f63;\n",
       "            color:  #000000;\n",
       "        }    #T_bcf463d6_7a2b_11ea_a2e2_48bf6beebc3crow9_col5 {\n",
       "            background-color:  #7b9ff9;\n",
       "            color:  #000000;\n",
       "        }    #T_bcf463d6_7a2b_11ea_a2e2_48bf6beebc3crow9_col6 {\n",
       "            background-color:  #f7a688;\n",
       "            color:  #000000;\n",
       "        }    #T_bcf463d6_7a2b_11ea_a2e2_48bf6beebc3crow9_col7 {\n",
       "            background-color:  #6384eb;\n",
       "            color:  #000000;\n",
       "        }    #T_bcf463d6_7a2b_11ea_a2e2_48bf6beebc3crow9_col8 {\n",
       "            background-color:  #ca3b37;\n",
       "            color:  #f1f1f1;\n",
       "        }    #T_bcf463d6_7a2b_11ea_a2e2_48bf6beebc3crow9_col9 {\n",
       "            background-color:  #b40426;\n",
       "            color:  #f1f1f1;\n",
       "        }    #T_bcf463d6_7a2b_11ea_a2e2_48bf6beebc3crow9_col10 {\n",
       "            background-color:  #f6bfa6;\n",
       "            color:  #000000;\n",
       "        }    #T_bcf463d6_7a2b_11ea_a2e2_48bf6beebc3crow9_col11 {\n",
       "            background-color:  #3b4cc0;\n",
       "            color:  #f1f1f1;\n",
       "        }    #T_bcf463d6_7a2b_11ea_a2e2_48bf6beebc3crow9_col12 {\n",
       "            background-color:  #f59f80;\n",
       "            color:  #000000;\n",
       "        }    #T_bcf463d6_7a2b_11ea_a2e2_48bf6beebc3crow9_col13 {\n",
       "            background-color:  #6b8df0;\n",
       "            color:  #000000;\n",
       "        }    #T_bcf463d6_7a2b_11ea_a2e2_48bf6beebc3crow10_col0 {\n",
       "            background-color:  #dadce0;\n",
       "            color:  #000000;\n",
       "        }    #T_bcf463d6_7a2b_11ea_a2e2_48bf6beebc3crow10_col1 {\n",
       "            background-color:  #5e7de7;\n",
       "            color:  #000000;\n",
       "        }    #T_bcf463d6_7a2b_11ea_a2e2_48bf6beebc3crow10_col2 {\n",
       "            background-color:  #f5c0a7;\n",
       "            color:  #000000;\n",
       "        }    #T_bcf463d6_7a2b_11ea_a2e2_48bf6beebc3crow10_col3 {\n",
       "            background-color:  #3b4cc0;\n",
       "            color:  #f1f1f1;\n",
       "        }    #T_bcf463d6_7a2b_11ea_a2e2_48bf6beebc3crow10_col4 {\n",
       "            background-color:  #e7d7ce;\n",
       "            color:  #000000;\n",
       "        }    #T_bcf463d6_7a2b_11ea_a2e2_48bf6beebc3crow10_col5 {\n",
       "            background-color:  #6c8ff1;\n",
       "            color:  #000000;\n",
       "        }    #T_bcf463d6_7a2b_11ea_a2e2_48bf6beebc3crow10_col6 {\n",
       "            background-color:  #eed0c0;\n",
       "            color:  #000000;\n",
       "        }    #T_bcf463d6_7a2b_11ea_a2e2_48bf6beebc3crow10_col7 {\n",
       "            background-color:  #9fbfff;\n",
       "            color:  #000000;\n",
       "        }    #T_bcf463d6_7a2b_11ea_a2e2_48bf6beebc3crow10_col8 {\n",
       "            background-color:  #f6bfa6;\n",
       "            color:  #000000;\n",
       "        }    #T_bcf463d6_7a2b_11ea_a2e2_48bf6beebc3crow10_col9 {\n",
       "            background-color:  #f6bda2;\n",
       "            color:  #000000;\n",
       "        }    #T_bcf463d6_7a2b_11ea_a2e2_48bf6beebc3crow10_col10 {\n",
       "            background-color:  #b40426;\n",
       "            color:  #f1f1f1;\n",
       "        }    #T_bcf463d6_7a2b_11ea_a2e2_48bf6beebc3crow10_col11 {\n",
       "            background-color:  #7699f6;\n",
       "            color:  #000000;\n",
       "        }    #T_bcf463d6_7a2b_11ea_a2e2_48bf6beebc3crow10_col12 {\n",
       "            background-color:  #f5c0a7;\n",
       "            color:  #000000;\n",
       "        }    #T_bcf463d6_7a2b_11ea_a2e2_48bf6beebc3crow10_col13 {\n",
       "            background-color:  #6384eb;\n",
       "            color:  #000000;\n",
       "        }    #T_bcf463d6_7a2b_11ea_a2e2_48bf6beebc3crow11_col0 {\n",
       "            background-color:  #3b4cc0;\n",
       "            color:  #f1f1f1;\n",
       "        }    #T_bcf463d6_7a2b_11ea_a2e2_48bf6beebc3crow11_col1 {\n",
       "            background-color:  #d6dce4;\n",
       "            color:  #000000;\n",
       "        }    #T_bcf463d6_7a2b_11ea_a2e2_48bf6beebc3crow11_col2 {\n",
       "            background-color:  #7da0f9;\n",
       "            color:  #000000;\n",
       "        }    #T_bcf463d6_7a2b_11ea_a2e2_48bf6beebc3crow11_col3 {\n",
       "            background-color:  #6a8bef;\n",
       "            color:  #000000;\n",
       "        }    #T_bcf463d6_7a2b_11ea_a2e2_48bf6beebc3crow11_col4 {\n",
       "            background-color:  #82a6fb;\n",
       "            color:  #000000;\n",
       "        }    #T_bcf463d6_7a2b_11ea_a2e2_48bf6beebc3crow11_col5 {\n",
       "            background-color:  #d2dbe8;\n",
       "            color:  #000000;\n",
       "        }    #T_bcf463d6_7a2b_11ea_a2e2_48bf6beebc3crow11_col6 {\n",
       "            background-color:  #94b6ff;\n",
       "            color:  #000000;\n",
       "        }    #T_bcf463d6_7a2b_11ea_a2e2_48bf6beebc3crow11_col7 {\n",
       "            background-color:  #f2cbb7;\n",
       "            color:  #000000;\n",
       "        }    #T_bcf463d6_7a2b_11ea_a2e2_48bf6beebc3crow11_col8 {\n",
       "            background-color:  #445acc;\n",
       "            color:  #f1f1f1;\n",
       "        }    #T_bcf463d6_7a2b_11ea_a2e2_48bf6beebc3crow11_col9 {\n",
       "            background-color:  #4c66d6;\n",
       "            color:  #000000;\n",
       "        }    #T_bcf463d6_7a2b_11ea_a2e2_48bf6beebc3crow11_col10 {\n",
       "            background-color:  #82a6fb;\n",
       "            color:  #000000;\n",
       "        }    #T_bcf463d6_7a2b_11ea_a2e2_48bf6beebc3crow11_col11 {\n",
       "            background-color:  #b40426;\n",
       "            color:  #f1f1f1;\n",
       "        }    #T_bcf463d6_7a2b_11ea_a2e2_48bf6beebc3crow11_col12 {\n",
       "            background-color:  #80a3fa;\n",
       "            color:  #000000;\n",
       "        }    #T_bcf463d6_7a2b_11ea_a2e2_48bf6beebc3crow11_col13 {\n",
       "            background-color:  #f3c7b1;\n",
       "            color:  #000000;\n",
       "        }    #T_bcf463d6_7a2b_11ea_a2e2_48bf6beebc3crow12_col0 {\n",
       "            background-color:  #f2c9b4;\n",
       "            color:  #000000;\n",
       "        }    #T_bcf463d6_7a2b_11ea_a2e2_48bf6beebc3crow12_col1 {\n",
       "            background-color:  #5977e3;\n",
       "            color:  #000000;\n",
       "        }    #T_bcf463d6_7a2b_11ea_a2e2_48bf6beebc3crow12_col2 {\n",
       "            background-color:  #f29274;\n",
       "            color:  #000000;\n",
       "        }    #T_bcf463d6_7a2b_11ea_a2e2_48bf6beebc3crow12_col3 {\n",
       "            background-color:  #4c66d6;\n",
       "            color:  #000000;\n",
       "        }    #T_bcf463d6_7a2b_11ea_a2e2_48bf6beebc3crow12_col4 {\n",
       "            background-color:  #f29274;\n",
       "            color:  #000000;\n",
       "        }    #T_bcf463d6_7a2b_11ea_a2e2_48bf6beebc3crow12_col5 {\n",
       "            background-color:  #3b4cc0;\n",
       "            color:  #f1f1f1;\n",
       "        }    #T_bcf463d6_7a2b_11ea_a2e2_48bf6beebc3crow12_col6 {\n",
       "            background-color:  #f29072;\n",
       "            color:  #000000;\n",
       "        }    #T_bcf463d6_7a2b_11ea_a2e2_48bf6beebc3crow12_col7 {\n",
       "            background-color:  #6b8df0;\n",
       "            color:  #000000;\n",
       "        }    #T_bcf463d6_7a2b_11ea_a2e2_48bf6beebc3crow12_col8 {\n",
       "            background-color:  #f7ba9f;\n",
       "            color:  #000000;\n",
       "        }    #T_bcf463d6_7a2b_11ea_a2e2_48bf6beebc3crow12_col9 {\n",
       "            background-color:  #f7ac8e;\n",
       "            color:  #000000;\n",
       "        }    #T_bcf463d6_7a2b_11ea_a2e2_48bf6beebc3crow12_col10 {\n",
       "            background-color:  #efcebd;\n",
       "            color:  #000000;\n",
       "        }    #T_bcf463d6_7a2b_11ea_a2e2_48bf6beebc3crow12_col11 {\n",
       "            background-color:  #4a63d3;\n",
       "            color:  #f1f1f1;\n",
       "        }    #T_bcf463d6_7a2b_11ea_a2e2_48bf6beebc3crow12_col12 {\n",
       "            background-color:  #b40426;\n",
       "            color:  #f1f1f1;\n",
       "        }    #T_bcf463d6_7a2b_11ea_a2e2_48bf6beebc3crow12_col13 {\n",
       "            background-color:  #3b4cc0;\n",
       "            color:  #f1f1f1;\n",
       "        }    #T_bcf463d6_7a2b_11ea_a2e2_48bf6beebc3crow13_col0 {\n",
       "            background-color:  #3b4cc0;\n",
       "            color:  #f1f1f1;\n",
       "        }    #T_bcf463d6_7a2b_11ea_a2e2_48bf6beebc3crow13_col1 {\n",
       "            background-color:  #f1cdba;\n",
       "            color:  #000000;\n",
       "        }    #T_bcf463d6_7a2b_11ea_a2e2_48bf6beebc3crow13_col2 {\n",
       "            background-color:  #6384eb;\n",
       "            color:  #000000;\n",
       "        }    #T_bcf463d6_7a2b_11ea_a2e2_48bf6beebc3crow13_col3 {\n",
       "            background-color:  #92b4fe;\n",
       "            color:  #000000;\n",
       "        }    #T_bcf463d6_7a2b_11ea_a2e2_48bf6beebc3crow13_col4 {\n",
       "            background-color:  #799cf8;\n",
       "            color:  #000000;\n",
       "        }    #T_bcf463d6_7a2b_11ea_a2e2_48bf6beebc3crow13_col5 {\n",
       "            background-color:  #ec7f63;\n",
       "            color:  #000000;\n",
       "        }    #T_bcf463d6_7a2b_11ea_a2e2_48bf6beebc3crow13_col6 {\n",
       "            background-color:  #80a3fa;\n",
       "            color:  #000000;\n",
       "        }    #T_bcf463d6_7a2b_11ea_a2e2_48bf6beebc3crow13_col7 {\n",
       "            background-color:  #eed0c0;\n",
       "            color:  #000000;\n",
       "        }    #T_bcf463d6_7a2b_11ea_a2e2_48bf6beebc3crow13_col8 {\n",
       "            background-color:  #516ddb;\n",
       "            color:  #000000;\n",
       "        }    #T_bcf463d6_7a2b_11ea_a2e2_48bf6beebc3crow13_col9 {\n",
       "            background-color:  #465ecf;\n",
       "            color:  #f1f1f1;\n",
       "        }    #T_bcf463d6_7a2b_11ea_a2e2_48bf6beebc3crow13_col10 {\n",
       "            background-color:  #3b4cc0;\n",
       "            color:  #f1f1f1;\n",
       "        }    #T_bcf463d6_7a2b_11ea_a2e2_48bf6beebc3crow13_col11 {\n",
       "            background-color:  #e6d7cf;\n",
       "            color:  #000000;\n",
       "        }    #T_bcf463d6_7a2b_11ea_a2e2_48bf6beebc3crow13_col12 {\n",
       "            background-color:  #3b4cc0;\n",
       "            color:  #f1f1f1;\n",
       "        }    #T_bcf463d6_7a2b_11ea_a2e2_48bf6beebc3crow13_col13 {\n",
       "            background-color:  #b40426;\n",
       "            color:  #f1f1f1;\n",
       "        }</style><table id=\"T_bcf463d6_7a2b_11ea_a2e2_48bf6beebc3c\" ><thead>    <tr>        <th class=\"blank level0\" ></th>        <th class=\"col_heading level0 col0\" >CRIM</th>        <th class=\"col_heading level0 col1\" >ZN</th>        <th class=\"col_heading level0 col2\" >INDUS</th>        <th class=\"col_heading level0 col3\" >CHAS</th>        <th class=\"col_heading level0 col4\" >NOX</th>        <th class=\"col_heading level0 col5\" >RM</th>        <th class=\"col_heading level0 col6\" >AGE</th>        <th class=\"col_heading level0 col7\" >DIS</th>        <th class=\"col_heading level0 col8\" >RAD</th>        <th class=\"col_heading level0 col9\" >TAX</th>        <th class=\"col_heading level0 col10\" >PTRATIO</th>        <th class=\"col_heading level0 col11\" >B</th>        <th class=\"col_heading level0 col12\" >LSTAT</th>        <th class=\"col_heading level0 col13\" >PRICE</th>    </tr></thead><tbody>\n",
       "                <tr>\n",
       "                        <th id=\"T_bcf463d6_7a2b_11ea_a2e2_48bf6beebc3clevel0_row0\" class=\"row_heading level0 row0\" >CRIM</th>\n",
       "                        <td id=\"T_bcf463d6_7a2b_11ea_a2e2_48bf6beebc3crow0_col0\" class=\"data row0 col0\" >1.000000</td>\n",
       "                        <td id=\"T_bcf463d6_7a2b_11ea_a2e2_48bf6beebc3crow0_col1\" class=\"data row0 col1\" >-0.200469</td>\n",
       "                        <td id=\"T_bcf463d6_7a2b_11ea_a2e2_48bf6beebc3crow0_col2\" class=\"data row0 col2\" >0.406583</td>\n",
       "                        <td id=\"T_bcf463d6_7a2b_11ea_a2e2_48bf6beebc3crow0_col3\" class=\"data row0 col3\" >-0.055892</td>\n",
       "                        <td id=\"T_bcf463d6_7a2b_11ea_a2e2_48bf6beebc3crow0_col4\" class=\"data row0 col4\" >0.420972</td>\n",
       "                        <td id=\"T_bcf463d6_7a2b_11ea_a2e2_48bf6beebc3crow0_col5\" class=\"data row0 col5\" >-0.219247</td>\n",
       "                        <td id=\"T_bcf463d6_7a2b_11ea_a2e2_48bf6beebc3crow0_col6\" class=\"data row0 col6\" >0.352734</td>\n",
       "                        <td id=\"T_bcf463d6_7a2b_11ea_a2e2_48bf6beebc3crow0_col7\" class=\"data row0 col7\" >-0.379670</td>\n",
       "                        <td id=\"T_bcf463d6_7a2b_11ea_a2e2_48bf6beebc3crow0_col8\" class=\"data row0 col8\" >0.625505</td>\n",
       "                        <td id=\"T_bcf463d6_7a2b_11ea_a2e2_48bf6beebc3crow0_col9\" class=\"data row0 col9\" >0.582764</td>\n",
       "                        <td id=\"T_bcf463d6_7a2b_11ea_a2e2_48bf6beebc3crow0_col10\" class=\"data row0 col10\" >0.289946</td>\n",
       "                        <td id=\"T_bcf463d6_7a2b_11ea_a2e2_48bf6beebc3crow0_col11\" class=\"data row0 col11\" >-0.385064</td>\n",
       "                        <td id=\"T_bcf463d6_7a2b_11ea_a2e2_48bf6beebc3crow0_col12\" class=\"data row0 col12\" >0.455621</td>\n",
       "                        <td id=\"T_bcf463d6_7a2b_11ea_a2e2_48bf6beebc3crow0_col13\" class=\"data row0 col13\" >-0.388305</td>\n",
       "            </tr>\n",
       "            <tr>\n",
       "                        <th id=\"T_bcf463d6_7a2b_11ea_a2e2_48bf6beebc3clevel0_row1\" class=\"row_heading level0 row1\" >ZN</th>\n",
       "                        <td id=\"T_bcf463d6_7a2b_11ea_a2e2_48bf6beebc3crow1_col0\" class=\"data row1 col0\" >-0.200469</td>\n",
       "                        <td id=\"T_bcf463d6_7a2b_11ea_a2e2_48bf6beebc3crow1_col1\" class=\"data row1 col1\" >1.000000</td>\n",
       "                        <td id=\"T_bcf463d6_7a2b_11ea_a2e2_48bf6beebc3crow1_col2\" class=\"data row1 col2\" >-0.533828</td>\n",
       "                        <td id=\"T_bcf463d6_7a2b_11ea_a2e2_48bf6beebc3crow1_col3\" class=\"data row1 col3\" >-0.042697</td>\n",
       "                        <td id=\"T_bcf463d6_7a2b_11ea_a2e2_48bf6beebc3crow1_col4\" class=\"data row1 col4\" >-0.516604</td>\n",
       "                        <td id=\"T_bcf463d6_7a2b_11ea_a2e2_48bf6beebc3crow1_col5\" class=\"data row1 col5\" >0.311991</td>\n",
       "                        <td id=\"T_bcf463d6_7a2b_11ea_a2e2_48bf6beebc3crow1_col6\" class=\"data row1 col6\" >-0.569537</td>\n",
       "                        <td id=\"T_bcf463d6_7a2b_11ea_a2e2_48bf6beebc3crow1_col7\" class=\"data row1 col7\" >0.664408</td>\n",
       "                        <td id=\"T_bcf463d6_7a2b_11ea_a2e2_48bf6beebc3crow1_col8\" class=\"data row1 col8\" >-0.311948</td>\n",
       "                        <td id=\"T_bcf463d6_7a2b_11ea_a2e2_48bf6beebc3crow1_col9\" class=\"data row1 col9\" >-0.314563</td>\n",
       "                        <td id=\"T_bcf463d6_7a2b_11ea_a2e2_48bf6beebc3crow1_col10\" class=\"data row1 col10\" >-0.391679</td>\n",
       "                        <td id=\"T_bcf463d6_7a2b_11ea_a2e2_48bf6beebc3crow1_col11\" class=\"data row1 col11\" >0.175520</td>\n",
       "                        <td id=\"T_bcf463d6_7a2b_11ea_a2e2_48bf6beebc3crow1_col12\" class=\"data row1 col12\" >-0.412995</td>\n",
       "                        <td id=\"T_bcf463d6_7a2b_11ea_a2e2_48bf6beebc3crow1_col13\" class=\"data row1 col13\" >0.360445</td>\n",
       "            </tr>\n",
       "            <tr>\n",
       "                        <th id=\"T_bcf463d6_7a2b_11ea_a2e2_48bf6beebc3clevel0_row2\" class=\"row_heading level0 row2\" >INDUS</th>\n",
       "                        <td id=\"T_bcf463d6_7a2b_11ea_a2e2_48bf6beebc3crow2_col0\" class=\"data row2 col0\" >0.406583</td>\n",
       "                        <td id=\"T_bcf463d6_7a2b_11ea_a2e2_48bf6beebc3crow2_col1\" class=\"data row2 col1\" >-0.533828</td>\n",
       "                        <td id=\"T_bcf463d6_7a2b_11ea_a2e2_48bf6beebc3crow2_col2\" class=\"data row2 col2\" >1.000000</td>\n",
       "                        <td id=\"T_bcf463d6_7a2b_11ea_a2e2_48bf6beebc3crow2_col3\" class=\"data row2 col3\" >0.062938</td>\n",
       "                        <td id=\"T_bcf463d6_7a2b_11ea_a2e2_48bf6beebc3crow2_col4\" class=\"data row2 col4\" >0.763651</td>\n",
       "                        <td id=\"T_bcf463d6_7a2b_11ea_a2e2_48bf6beebc3crow2_col5\" class=\"data row2 col5\" >-0.391676</td>\n",
       "                        <td id=\"T_bcf463d6_7a2b_11ea_a2e2_48bf6beebc3crow2_col6\" class=\"data row2 col6\" >0.644779</td>\n",
       "                        <td id=\"T_bcf463d6_7a2b_11ea_a2e2_48bf6beebc3crow2_col7\" class=\"data row2 col7\" >-0.708027</td>\n",
       "                        <td id=\"T_bcf463d6_7a2b_11ea_a2e2_48bf6beebc3crow2_col8\" class=\"data row2 col8\" >0.595129</td>\n",
       "                        <td id=\"T_bcf463d6_7a2b_11ea_a2e2_48bf6beebc3crow2_col9\" class=\"data row2 col9\" >0.720760</td>\n",
       "                        <td id=\"T_bcf463d6_7a2b_11ea_a2e2_48bf6beebc3crow2_col10\" class=\"data row2 col10\" >0.383248</td>\n",
       "                        <td id=\"T_bcf463d6_7a2b_11ea_a2e2_48bf6beebc3crow2_col11\" class=\"data row2 col11\" >-0.356977</td>\n",
       "                        <td id=\"T_bcf463d6_7a2b_11ea_a2e2_48bf6beebc3crow2_col12\" class=\"data row2 col12\" >0.603800</td>\n",
       "                        <td id=\"T_bcf463d6_7a2b_11ea_a2e2_48bf6beebc3crow2_col13\" class=\"data row2 col13\" >-0.483725</td>\n",
       "            </tr>\n",
       "            <tr>\n",
       "                        <th id=\"T_bcf463d6_7a2b_11ea_a2e2_48bf6beebc3clevel0_row3\" class=\"row_heading level0 row3\" >CHAS</th>\n",
       "                        <td id=\"T_bcf463d6_7a2b_11ea_a2e2_48bf6beebc3crow3_col0\" class=\"data row3 col0\" >-0.055892</td>\n",
       "                        <td id=\"T_bcf463d6_7a2b_11ea_a2e2_48bf6beebc3crow3_col1\" class=\"data row3 col1\" >-0.042697</td>\n",
       "                        <td id=\"T_bcf463d6_7a2b_11ea_a2e2_48bf6beebc3crow3_col2\" class=\"data row3 col2\" >0.062938</td>\n",
       "                        <td id=\"T_bcf463d6_7a2b_11ea_a2e2_48bf6beebc3crow3_col3\" class=\"data row3 col3\" >1.000000</td>\n",
       "                        <td id=\"T_bcf463d6_7a2b_11ea_a2e2_48bf6beebc3crow3_col4\" class=\"data row3 col4\" >0.091203</td>\n",
       "                        <td id=\"T_bcf463d6_7a2b_11ea_a2e2_48bf6beebc3crow3_col5\" class=\"data row3 col5\" >0.091251</td>\n",
       "                        <td id=\"T_bcf463d6_7a2b_11ea_a2e2_48bf6beebc3crow3_col6\" class=\"data row3 col6\" >0.086518</td>\n",
       "                        <td id=\"T_bcf463d6_7a2b_11ea_a2e2_48bf6beebc3crow3_col7\" class=\"data row3 col7\" >-0.099176</td>\n",
       "                        <td id=\"T_bcf463d6_7a2b_11ea_a2e2_48bf6beebc3crow3_col8\" class=\"data row3 col8\" >-0.007368</td>\n",
       "                        <td id=\"T_bcf463d6_7a2b_11ea_a2e2_48bf6beebc3crow3_col9\" class=\"data row3 col9\" >-0.035587</td>\n",
       "                        <td id=\"T_bcf463d6_7a2b_11ea_a2e2_48bf6beebc3crow3_col10\" class=\"data row3 col10\" >-0.121515</td>\n",
       "                        <td id=\"T_bcf463d6_7a2b_11ea_a2e2_48bf6beebc3crow3_col11\" class=\"data row3 col11\" >0.048788</td>\n",
       "                        <td id=\"T_bcf463d6_7a2b_11ea_a2e2_48bf6beebc3crow3_col12\" class=\"data row3 col12\" >-0.053929</td>\n",
       "                        <td id=\"T_bcf463d6_7a2b_11ea_a2e2_48bf6beebc3crow3_col13\" class=\"data row3 col13\" >0.175260</td>\n",
       "            </tr>\n",
       "            <tr>\n",
       "                        <th id=\"T_bcf463d6_7a2b_11ea_a2e2_48bf6beebc3clevel0_row4\" class=\"row_heading level0 row4\" >NOX</th>\n",
       "                        <td id=\"T_bcf463d6_7a2b_11ea_a2e2_48bf6beebc3crow4_col0\" class=\"data row4 col0\" >0.420972</td>\n",
       "                        <td id=\"T_bcf463d6_7a2b_11ea_a2e2_48bf6beebc3crow4_col1\" class=\"data row4 col1\" >-0.516604</td>\n",
       "                        <td id=\"T_bcf463d6_7a2b_11ea_a2e2_48bf6beebc3crow4_col2\" class=\"data row4 col2\" >0.763651</td>\n",
       "                        <td id=\"T_bcf463d6_7a2b_11ea_a2e2_48bf6beebc3crow4_col3\" class=\"data row4 col3\" >0.091203</td>\n",
       "                        <td id=\"T_bcf463d6_7a2b_11ea_a2e2_48bf6beebc3crow4_col4\" class=\"data row4 col4\" >1.000000</td>\n",
       "                        <td id=\"T_bcf463d6_7a2b_11ea_a2e2_48bf6beebc3crow4_col5\" class=\"data row4 col5\" >-0.302188</td>\n",
       "                        <td id=\"T_bcf463d6_7a2b_11ea_a2e2_48bf6beebc3crow4_col6\" class=\"data row4 col6\" >0.731470</td>\n",
       "                        <td id=\"T_bcf463d6_7a2b_11ea_a2e2_48bf6beebc3crow4_col7\" class=\"data row4 col7\" >-0.769230</td>\n",
       "                        <td id=\"T_bcf463d6_7a2b_11ea_a2e2_48bf6beebc3crow4_col8\" class=\"data row4 col8\" >0.611441</td>\n",
       "                        <td id=\"T_bcf463d6_7a2b_11ea_a2e2_48bf6beebc3crow4_col9\" class=\"data row4 col9\" >0.668023</td>\n",
       "                        <td id=\"T_bcf463d6_7a2b_11ea_a2e2_48bf6beebc3crow4_col10\" class=\"data row4 col10\" >0.188933</td>\n",
       "                        <td id=\"T_bcf463d6_7a2b_11ea_a2e2_48bf6beebc3crow4_col11\" class=\"data row4 col11\" >-0.380051</td>\n",
       "                        <td id=\"T_bcf463d6_7a2b_11ea_a2e2_48bf6beebc3crow4_col12\" class=\"data row4 col12\" >0.590879</td>\n",
       "                        <td id=\"T_bcf463d6_7a2b_11ea_a2e2_48bf6beebc3crow4_col13\" class=\"data row4 col13\" >-0.427321</td>\n",
       "            </tr>\n",
       "            <tr>\n",
       "                        <th id=\"T_bcf463d6_7a2b_11ea_a2e2_48bf6beebc3clevel0_row5\" class=\"row_heading level0 row5\" >RM</th>\n",
       "                        <td id=\"T_bcf463d6_7a2b_11ea_a2e2_48bf6beebc3crow5_col0\" class=\"data row5 col0\" >-0.219247</td>\n",
       "                        <td id=\"T_bcf463d6_7a2b_11ea_a2e2_48bf6beebc3crow5_col1\" class=\"data row5 col1\" >0.311991</td>\n",
       "                        <td id=\"T_bcf463d6_7a2b_11ea_a2e2_48bf6beebc3crow5_col2\" class=\"data row5 col2\" >-0.391676</td>\n",
       "                        <td id=\"T_bcf463d6_7a2b_11ea_a2e2_48bf6beebc3crow5_col3\" class=\"data row5 col3\" >0.091251</td>\n",
       "                        <td id=\"T_bcf463d6_7a2b_11ea_a2e2_48bf6beebc3crow5_col4\" class=\"data row5 col4\" >-0.302188</td>\n",
       "                        <td id=\"T_bcf463d6_7a2b_11ea_a2e2_48bf6beebc3crow5_col5\" class=\"data row5 col5\" >1.000000</td>\n",
       "                        <td id=\"T_bcf463d6_7a2b_11ea_a2e2_48bf6beebc3crow5_col6\" class=\"data row5 col6\" >-0.240265</td>\n",
       "                        <td id=\"T_bcf463d6_7a2b_11ea_a2e2_48bf6beebc3crow5_col7\" class=\"data row5 col7\" >0.205246</td>\n",
       "                        <td id=\"T_bcf463d6_7a2b_11ea_a2e2_48bf6beebc3crow5_col8\" class=\"data row5 col8\" >-0.209847</td>\n",
       "                        <td id=\"T_bcf463d6_7a2b_11ea_a2e2_48bf6beebc3crow5_col9\" class=\"data row5 col9\" >-0.292048</td>\n",
       "                        <td id=\"T_bcf463d6_7a2b_11ea_a2e2_48bf6beebc3crow5_col10\" class=\"data row5 col10\" >-0.355501</td>\n",
       "                        <td id=\"T_bcf463d6_7a2b_11ea_a2e2_48bf6beebc3crow5_col11\" class=\"data row5 col11\" >0.128069</td>\n",
       "                        <td id=\"T_bcf463d6_7a2b_11ea_a2e2_48bf6beebc3crow5_col12\" class=\"data row5 col12\" >-0.613808</td>\n",
       "                        <td id=\"T_bcf463d6_7a2b_11ea_a2e2_48bf6beebc3crow5_col13\" class=\"data row5 col13\" >0.695360</td>\n",
       "            </tr>\n",
       "            <tr>\n",
       "                        <th id=\"T_bcf463d6_7a2b_11ea_a2e2_48bf6beebc3clevel0_row6\" class=\"row_heading level0 row6\" >AGE</th>\n",
       "                        <td id=\"T_bcf463d6_7a2b_11ea_a2e2_48bf6beebc3crow6_col0\" class=\"data row6 col0\" >0.352734</td>\n",
       "                        <td id=\"T_bcf463d6_7a2b_11ea_a2e2_48bf6beebc3crow6_col1\" class=\"data row6 col1\" >-0.569537</td>\n",
       "                        <td id=\"T_bcf463d6_7a2b_11ea_a2e2_48bf6beebc3crow6_col2\" class=\"data row6 col2\" >0.644779</td>\n",
       "                        <td id=\"T_bcf463d6_7a2b_11ea_a2e2_48bf6beebc3crow6_col3\" class=\"data row6 col3\" >0.086518</td>\n",
       "                        <td id=\"T_bcf463d6_7a2b_11ea_a2e2_48bf6beebc3crow6_col4\" class=\"data row6 col4\" >0.731470</td>\n",
       "                        <td id=\"T_bcf463d6_7a2b_11ea_a2e2_48bf6beebc3crow6_col5\" class=\"data row6 col5\" >-0.240265</td>\n",
       "                        <td id=\"T_bcf463d6_7a2b_11ea_a2e2_48bf6beebc3crow6_col6\" class=\"data row6 col6\" >1.000000</td>\n",
       "                        <td id=\"T_bcf463d6_7a2b_11ea_a2e2_48bf6beebc3crow6_col7\" class=\"data row6 col7\" >-0.747881</td>\n",
       "                        <td id=\"T_bcf463d6_7a2b_11ea_a2e2_48bf6beebc3crow6_col8\" class=\"data row6 col8\" >0.456022</td>\n",
       "                        <td id=\"T_bcf463d6_7a2b_11ea_a2e2_48bf6beebc3crow6_col9\" class=\"data row6 col9\" >0.506456</td>\n",
       "                        <td id=\"T_bcf463d6_7a2b_11ea_a2e2_48bf6beebc3crow6_col10\" class=\"data row6 col10\" >0.261515</td>\n",
       "                        <td id=\"T_bcf463d6_7a2b_11ea_a2e2_48bf6beebc3crow6_col11\" class=\"data row6 col11\" >-0.273534</td>\n",
       "                        <td id=\"T_bcf463d6_7a2b_11ea_a2e2_48bf6beebc3crow6_col12\" class=\"data row6 col12\" >0.602339</td>\n",
       "                        <td id=\"T_bcf463d6_7a2b_11ea_a2e2_48bf6beebc3crow6_col13\" class=\"data row6 col13\" >-0.376955</td>\n",
       "            </tr>\n",
       "            <tr>\n",
       "                        <th id=\"T_bcf463d6_7a2b_11ea_a2e2_48bf6beebc3clevel0_row7\" class=\"row_heading level0 row7\" >DIS</th>\n",
       "                        <td id=\"T_bcf463d6_7a2b_11ea_a2e2_48bf6beebc3crow7_col0\" class=\"data row7 col0\" >-0.379670</td>\n",
       "                        <td id=\"T_bcf463d6_7a2b_11ea_a2e2_48bf6beebc3crow7_col1\" class=\"data row7 col1\" >0.664408</td>\n",
       "                        <td id=\"T_bcf463d6_7a2b_11ea_a2e2_48bf6beebc3crow7_col2\" class=\"data row7 col2\" >-0.708027</td>\n",
       "                        <td id=\"T_bcf463d6_7a2b_11ea_a2e2_48bf6beebc3crow7_col3\" class=\"data row7 col3\" >-0.099176</td>\n",
       "                        <td id=\"T_bcf463d6_7a2b_11ea_a2e2_48bf6beebc3crow7_col4\" class=\"data row7 col4\" >-0.769230</td>\n",
       "                        <td id=\"T_bcf463d6_7a2b_11ea_a2e2_48bf6beebc3crow7_col5\" class=\"data row7 col5\" >0.205246</td>\n",
       "                        <td id=\"T_bcf463d6_7a2b_11ea_a2e2_48bf6beebc3crow7_col6\" class=\"data row7 col6\" >-0.747881</td>\n",
       "                        <td id=\"T_bcf463d6_7a2b_11ea_a2e2_48bf6beebc3crow7_col7\" class=\"data row7 col7\" >1.000000</td>\n",
       "                        <td id=\"T_bcf463d6_7a2b_11ea_a2e2_48bf6beebc3crow7_col8\" class=\"data row7 col8\" >-0.494588</td>\n",
       "                        <td id=\"T_bcf463d6_7a2b_11ea_a2e2_48bf6beebc3crow7_col9\" class=\"data row7 col9\" >-0.534432</td>\n",
       "                        <td id=\"T_bcf463d6_7a2b_11ea_a2e2_48bf6beebc3crow7_col10\" class=\"data row7 col10\" >-0.232471</td>\n",
       "                        <td id=\"T_bcf463d6_7a2b_11ea_a2e2_48bf6beebc3crow7_col11\" class=\"data row7 col11\" >0.291512</td>\n",
       "                        <td id=\"T_bcf463d6_7a2b_11ea_a2e2_48bf6beebc3crow7_col12\" class=\"data row7 col12\" >-0.496996</td>\n",
       "                        <td id=\"T_bcf463d6_7a2b_11ea_a2e2_48bf6beebc3crow7_col13\" class=\"data row7 col13\" >0.249929</td>\n",
       "            </tr>\n",
       "            <tr>\n",
       "                        <th id=\"T_bcf463d6_7a2b_11ea_a2e2_48bf6beebc3clevel0_row8\" class=\"row_heading level0 row8\" >RAD</th>\n",
       "                        <td id=\"T_bcf463d6_7a2b_11ea_a2e2_48bf6beebc3crow8_col0\" class=\"data row8 col0\" >0.625505</td>\n",
       "                        <td id=\"T_bcf463d6_7a2b_11ea_a2e2_48bf6beebc3crow8_col1\" class=\"data row8 col1\" >-0.311948</td>\n",
       "                        <td id=\"T_bcf463d6_7a2b_11ea_a2e2_48bf6beebc3crow8_col2\" class=\"data row8 col2\" >0.595129</td>\n",
       "                        <td id=\"T_bcf463d6_7a2b_11ea_a2e2_48bf6beebc3crow8_col3\" class=\"data row8 col3\" >-0.007368</td>\n",
       "                        <td id=\"T_bcf463d6_7a2b_11ea_a2e2_48bf6beebc3crow8_col4\" class=\"data row8 col4\" >0.611441</td>\n",
       "                        <td id=\"T_bcf463d6_7a2b_11ea_a2e2_48bf6beebc3crow8_col5\" class=\"data row8 col5\" >-0.209847</td>\n",
       "                        <td id=\"T_bcf463d6_7a2b_11ea_a2e2_48bf6beebc3crow8_col6\" class=\"data row8 col6\" >0.456022</td>\n",
       "                        <td id=\"T_bcf463d6_7a2b_11ea_a2e2_48bf6beebc3crow8_col7\" class=\"data row8 col7\" >-0.494588</td>\n",
       "                        <td id=\"T_bcf463d6_7a2b_11ea_a2e2_48bf6beebc3crow8_col8\" class=\"data row8 col8\" >1.000000</td>\n",
       "                        <td id=\"T_bcf463d6_7a2b_11ea_a2e2_48bf6beebc3crow8_col9\" class=\"data row8 col9\" >0.910228</td>\n",
       "                        <td id=\"T_bcf463d6_7a2b_11ea_a2e2_48bf6beebc3crow8_col10\" class=\"data row8 col10\" >0.464741</td>\n",
       "                        <td id=\"T_bcf463d6_7a2b_11ea_a2e2_48bf6beebc3crow8_col11\" class=\"data row8 col11\" >-0.444413</td>\n",
       "                        <td id=\"T_bcf463d6_7a2b_11ea_a2e2_48bf6beebc3crow8_col12\" class=\"data row8 col12\" >0.488676</td>\n",
       "                        <td id=\"T_bcf463d6_7a2b_11ea_a2e2_48bf6beebc3crow8_col13\" class=\"data row8 col13\" >-0.381626</td>\n",
       "            </tr>\n",
       "            <tr>\n",
       "                        <th id=\"T_bcf463d6_7a2b_11ea_a2e2_48bf6beebc3clevel0_row9\" class=\"row_heading level0 row9\" >TAX</th>\n",
       "                        <td id=\"T_bcf463d6_7a2b_11ea_a2e2_48bf6beebc3crow9_col0\" class=\"data row9 col0\" >0.582764</td>\n",
       "                        <td id=\"T_bcf463d6_7a2b_11ea_a2e2_48bf6beebc3crow9_col1\" class=\"data row9 col1\" >-0.314563</td>\n",
       "                        <td id=\"T_bcf463d6_7a2b_11ea_a2e2_48bf6beebc3crow9_col2\" class=\"data row9 col2\" >0.720760</td>\n",
       "                        <td id=\"T_bcf463d6_7a2b_11ea_a2e2_48bf6beebc3crow9_col3\" class=\"data row9 col3\" >-0.035587</td>\n",
       "                        <td id=\"T_bcf463d6_7a2b_11ea_a2e2_48bf6beebc3crow9_col4\" class=\"data row9 col4\" >0.668023</td>\n",
       "                        <td id=\"T_bcf463d6_7a2b_11ea_a2e2_48bf6beebc3crow9_col5\" class=\"data row9 col5\" >-0.292048</td>\n",
       "                        <td id=\"T_bcf463d6_7a2b_11ea_a2e2_48bf6beebc3crow9_col6\" class=\"data row9 col6\" >0.506456</td>\n",
       "                        <td id=\"T_bcf463d6_7a2b_11ea_a2e2_48bf6beebc3crow9_col7\" class=\"data row9 col7\" >-0.534432</td>\n",
       "                        <td id=\"T_bcf463d6_7a2b_11ea_a2e2_48bf6beebc3crow9_col8\" class=\"data row9 col8\" >0.910228</td>\n",
       "                        <td id=\"T_bcf463d6_7a2b_11ea_a2e2_48bf6beebc3crow9_col9\" class=\"data row9 col9\" >1.000000</td>\n",
       "                        <td id=\"T_bcf463d6_7a2b_11ea_a2e2_48bf6beebc3crow9_col10\" class=\"data row9 col10\" >0.460853</td>\n",
       "                        <td id=\"T_bcf463d6_7a2b_11ea_a2e2_48bf6beebc3crow9_col11\" class=\"data row9 col11\" >-0.441808</td>\n",
       "                        <td id=\"T_bcf463d6_7a2b_11ea_a2e2_48bf6beebc3crow9_col12\" class=\"data row9 col12\" >0.543993</td>\n",
       "                        <td id=\"T_bcf463d6_7a2b_11ea_a2e2_48bf6beebc3crow9_col13\" class=\"data row9 col13\" >-0.468536</td>\n",
       "            </tr>\n",
       "            <tr>\n",
       "                        <th id=\"T_bcf463d6_7a2b_11ea_a2e2_48bf6beebc3clevel0_row10\" class=\"row_heading level0 row10\" >PTRATIO</th>\n",
       "                        <td id=\"T_bcf463d6_7a2b_11ea_a2e2_48bf6beebc3crow10_col0\" class=\"data row10 col0\" >0.289946</td>\n",
       "                        <td id=\"T_bcf463d6_7a2b_11ea_a2e2_48bf6beebc3crow10_col1\" class=\"data row10 col1\" >-0.391679</td>\n",
       "                        <td id=\"T_bcf463d6_7a2b_11ea_a2e2_48bf6beebc3crow10_col2\" class=\"data row10 col2\" >0.383248</td>\n",
       "                        <td id=\"T_bcf463d6_7a2b_11ea_a2e2_48bf6beebc3crow10_col3\" class=\"data row10 col3\" >-0.121515</td>\n",
       "                        <td id=\"T_bcf463d6_7a2b_11ea_a2e2_48bf6beebc3crow10_col4\" class=\"data row10 col4\" >0.188933</td>\n",
       "                        <td id=\"T_bcf463d6_7a2b_11ea_a2e2_48bf6beebc3crow10_col5\" class=\"data row10 col5\" >-0.355501</td>\n",
       "                        <td id=\"T_bcf463d6_7a2b_11ea_a2e2_48bf6beebc3crow10_col6\" class=\"data row10 col6\" >0.261515</td>\n",
       "                        <td id=\"T_bcf463d6_7a2b_11ea_a2e2_48bf6beebc3crow10_col7\" class=\"data row10 col7\" >-0.232471</td>\n",
       "                        <td id=\"T_bcf463d6_7a2b_11ea_a2e2_48bf6beebc3crow10_col8\" class=\"data row10 col8\" >0.464741</td>\n",
       "                        <td id=\"T_bcf463d6_7a2b_11ea_a2e2_48bf6beebc3crow10_col9\" class=\"data row10 col9\" >0.460853</td>\n",
       "                        <td id=\"T_bcf463d6_7a2b_11ea_a2e2_48bf6beebc3crow10_col10\" class=\"data row10 col10\" >1.000000</td>\n",
       "                        <td id=\"T_bcf463d6_7a2b_11ea_a2e2_48bf6beebc3crow10_col11\" class=\"data row10 col11\" >-0.177383</td>\n",
       "                        <td id=\"T_bcf463d6_7a2b_11ea_a2e2_48bf6beebc3crow10_col12\" class=\"data row10 col12\" >0.374044</td>\n",
       "                        <td id=\"T_bcf463d6_7a2b_11ea_a2e2_48bf6beebc3crow10_col13\" class=\"data row10 col13\" >-0.507787</td>\n",
       "            </tr>\n",
       "            <tr>\n",
       "                        <th id=\"T_bcf463d6_7a2b_11ea_a2e2_48bf6beebc3clevel0_row11\" class=\"row_heading level0 row11\" >B</th>\n",
       "                        <td id=\"T_bcf463d6_7a2b_11ea_a2e2_48bf6beebc3crow11_col0\" class=\"data row11 col0\" >-0.385064</td>\n",
       "                        <td id=\"T_bcf463d6_7a2b_11ea_a2e2_48bf6beebc3crow11_col1\" class=\"data row11 col1\" >0.175520</td>\n",
       "                        <td id=\"T_bcf463d6_7a2b_11ea_a2e2_48bf6beebc3crow11_col2\" class=\"data row11 col2\" >-0.356977</td>\n",
       "                        <td id=\"T_bcf463d6_7a2b_11ea_a2e2_48bf6beebc3crow11_col3\" class=\"data row11 col3\" >0.048788</td>\n",
       "                        <td id=\"T_bcf463d6_7a2b_11ea_a2e2_48bf6beebc3crow11_col4\" class=\"data row11 col4\" >-0.380051</td>\n",
       "                        <td id=\"T_bcf463d6_7a2b_11ea_a2e2_48bf6beebc3crow11_col5\" class=\"data row11 col5\" >0.128069</td>\n",
       "                        <td id=\"T_bcf463d6_7a2b_11ea_a2e2_48bf6beebc3crow11_col6\" class=\"data row11 col6\" >-0.273534</td>\n",
       "                        <td id=\"T_bcf463d6_7a2b_11ea_a2e2_48bf6beebc3crow11_col7\" class=\"data row11 col7\" >0.291512</td>\n",
       "                        <td id=\"T_bcf463d6_7a2b_11ea_a2e2_48bf6beebc3crow11_col8\" class=\"data row11 col8\" >-0.444413</td>\n",
       "                        <td id=\"T_bcf463d6_7a2b_11ea_a2e2_48bf6beebc3crow11_col9\" class=\"data row11 col9\" >-0.441808</td>\n",
       "                        <td id=\"T_bcf463d6_7a2b_11ea_a2e2_48bf6beebc3crow11_col10\" class=\"data row11 col10\" >-0.177383</td>\n",
       "                        <td id=\"T_bcf463d6_7a2b_11ea_a2e2_48bf6beebc3crow11_col11\" class=\"data row11 col11\" >1.000000</td>\n",
       "                        <td id=\"T_bcf463d6_7a2b_11ea_a2e2_48bf6beebc3crow11_col12\" class=\"data row11 col12\" >-0.366087</td>\n",
       "                        <td id=\"T_bcf463d6_7a2b_11ea_a2e2_48bf6beebc3crow11_col13\" class=\"data row11 col13\" >0.333461</td>\n",
       "            </tr>\n",
       "            <tr>\n",
       "                        <th id=\"T_bcf463d6_7a2b_11ea_a2e2_48bf6beebc3clevel0_row12\" class=\"row_heading level0 row12\" >LSTAT</th>\n",
       "                        <td id=\"T_bcf463d6_7a2b_11ea_a2e2_48bf6beebc3crow12_col0\" class=\"data row12 col0\" >0.455621</td>\n",
       "                        <td id=\"T_bcf463d6_7a2b_11ea_a2e2_48bf6beebc3crow12_col1\" class=\"data row12 col1\" >-0.412995</td>\n",
       "                        <td id=\"T_bcf463d6_7a2b_11ea_a2e2_48bf6beebc3crow12_col2\" class=\"data row12 col2\" >0.603800</td>\n",
       "                        <td id=\"T_bcf463d6_7a2b_11ea_a2e2_48bf6beebc3crow12_col3\" class=\"data row12 col3\" >-0.053929</td>\n",
       "                        <td id=\"T_bcf463d6_7a2b_11ea_a2e2_48bf6beebc3crow12_col4\" class=\"data row12 col4\" >0.590879</td>\n",
       "                        <td id=\"T_bcf463d6_7a2b_11ea_a2e2_48bf6beebc3crow12_col5\" class=\"data row12 col5\" >-0.613808</td>\n",
       "                        <td id=\"T_bcf463d6_7a2b_11ea_a2e2_48bf6beebc3crow12_col6\" class=\"data row12 col6\" >0.602339</td>\n",
       "                        <td id=\"T_bcf463d6_7a2b_11ea_a2e2_48bf6beebc3crow12_col7\" class=\"data row12 col7\" >-0.496996</td>\n",
       "                        <td id=\"T_bcf463d6_7a2b_11ea_a2e2_48bf6beebc3crow12_col8\" class=\"data row12 col8\" >0.488676</td>\n",
       "                        <td id=\"T_bcf463d6_7a2b_11ea_a2e2_48bf6beebc3crow12_col9\" class=\"data row12 col9\" >0.543993</td>\n",
       "                        <td id=\"T_bcf463d6_7a2b_11ea_a2e2_48bf6beebc3crow12_col10\" class=\"data row12 col10\" >0.374044</td>\n",
       "                        <td id=\"T_bcf463d6_7a2b_11ea_a2e2_48bf6beebc3crow12_col11\" class=\"data row12 col11\" >-0.366087</td>\n",
       "                        <td id=\"T_bcf463d6_7a2b_11ea_a2e2_48bf6beebc3crow12_col12\" class=\"data row12 col12\" >1.000000</td>\n",
       "                        <td id=\"T_bcf463d6_7a2b_11ea_a2e2_48bf6beebc3crow12_col13\" class=\"data row12 col13\" >-0.737663</td>\n",
       "            </tr>\n",
       "            <tr>\n",
       "                        <th id=\"T_bcf463d6_7a2b_11ea_a2e2_48bf6beebc3clevel0_row13\" class=\"row_heading level0 row13\" >PRICE</th>\n",
       "                        <td id=\"T_bcf463d6_7a2b_11ea_a2e2_48bf6beebc3crow13_col0\" class=\"data row13 col0\" >-0.388305</td>\n",
       "                        <td id=\"T_bcf463d6_7a2b_11ea_a2e2_48bf6beebc3crow13_col1\" class=\"data row13 col1\" >0.360445</td>\n",
       "                        <td id=\"T_bcf463d6_7a2b_11ea_a2e2_48bf6beebc3crow13_col2\" class=\"data row13 col2\" >-0.483725</td>\n",
       "                        <td id=\"T_bcf463d6_7a2b_11ea_a2e2_48bf6beebc3crow13_col3\" class=\"data row13 col3\" >0.175260</td>\n",
       "                        <td id=\"T_bcf463d6_7a2b_11ea_a2e2_48bf6beebc3crow13_col4\" class=\"data row13 col4\" >-0.427321</td>\n",
       "                        <td id=\"T_bcf463d6_7a2b_11ea_a2e2_48bf6beebc3crow13_col5\" class=\"data row13 col5\" >0.695360</td>\n",
       "                        <td id=\"T_bcf463d6_7a2b_11ea_a2e2_48bf6beebc3crow13_col6\" class=\"data row13 col6\" >-0.376955</td>\n",
       "                        <td id=\"T_bcf463d6_7a2b_11ea_a2e2_48bf6beebc3crow13_col7\" class=\"data row13 col7\" >0.249929</td>\n",
       "                        <td id=\"T_bcf463d6_7a2b_11ea_a2e2_48bf6beebc3crow13_col8\" class=\"data row13 col8\" >-0.381626</td>\n",
       "                        <td id=\"T_bcf463d6_7a2b_11ea_a2e2_48bf6beebc3crow13_col9\" class=\"data row13 col9\" >-0.468536</td>\n",
       "                        <td id=\"T_bcf463d6_7a2b_11ea_a2e2_48bf6beebc3crow13_col10\" class=\"data row13 col10\" >-0.507787</td>\n",
       "                        <td id=\"T_bcf463d6_7a2b_11ea_a2e2_48bf6beebc3crow13_col11\" class=\"data row13 col11\" >0.333461</td>\n",
       "                        <td id=\"T_bcf463d6_7a2b_11ea_a2e2_48bf6beebc3crow13_col12\" class=\"data row13 col12\" >-0.737663</td>\n",
       "                        <td id=\"T_bcf463d6_7a2b_11ea_a2e2_48bf6beebc3crow13_col13\" class=\"data row13 col13\" >1.000000</td>\n",
       "            </tr>\n",
       "    </tbody></table>"
      ],
      "text/plain": [
       "<pandas.io.formats.style.Styler at 0x121b3dd10>"
      ]
     },
     "execution_count": 4,
     "metadata": {},
     "output_type": "execute_result"
    }
   ],
   "source": [
    "corr = bos.corr()\n",
    "corr.style.background_gradient(cmap = 'coolwarm') # let's color code correlation "
   ]
  },
  {
   "cell_type": "markdown",
   "metadata": {},
   "source": [
    "### Columns with High Correlation to Target Values"
   ]
  },
  {
   "cell_type": "markdown",
   "metadata": {},
   "source": [
    "- RM (Average Num of Rooms)\n",
    "- ZN(land zones for lots over 25,000 sq.ft.) \n",
    "- B (blacks in the neighborhood) \n",
    "- DIS(proximity to employment centres)\n",
    "- We see that \"TAX\" and \"RAD\" are highist correlated columns in this dataset with a corr: .91"
   ]
  },
  {
   "cell_type": "code",
   "execution_count": 5,
   "metadata": {},
   "outputs": [
    {
     "data": {
      "image/png": "[encoded data removed]",
      "text/plain": [
       "<Figure size 432x288 with 1 Axes>"
      ]
     },
     "metadata": {
      "needs_background": "light"
     },
     "output_type": "display_data"
    }
   ],
   "source": [
    "plt.scatter(bos['PRICE'],bos['RM'])\n",
    "plt.xlabel('Price',size=18)\n",
    "plt.ylabel('Number of Rooms',size=18)\n",
    "plt.show()"
   ]
  },
  {
   "cell_type": "code",
   "execution_count": 6,
   "metadata": {},
   "outputs": [
    {
     "data": {
      "image/png": "[encoded data removed]",
      "text/plain": [
       "<Figure size 432x288 with 1 Axes>"
      ]
     },
     "metadata": {
      "needs_background": "light"
     },
     "output_type": "display_data"
    }
   ],
   "source": [
    "plt.scatter(bos['PRICE'],bos['ZN'])\n",
    "plt.xlabel('Price',size=18)\n",
    "plt.ylabel('Land Zones for lots',size=18)\n",
    "plt.show()"
   ]
  },
  {
   "cell_type": "code",
   "execution_count": 7,
   "metadata": {},
   "outputs": [
    {
     "data": {
      "image/png": "[encoded data removed]",
      "text/plain": [
       "<Figure size 432x288 with 1 Axes>"
      ]
     },
     "metadata": {
      "needs_background": "light"
     },
     "output_type": "display_data"
    }
   ],
   "source": [
    "plt.scatter(bos['PRICE'],bos['B'])\n",
    "plt.xlabel('Price',size=18)\n",
    "plt.ylabel('Black',size=18)\n",
    "plt.show()"
   ]
  },
  {
   "cell_type": "code",
   "execution_count": 8,
   "metadata": {},
   "outputs": [
    {
     "data": {
      "image/png": "[encoded data removed]",
      "text/plain": [
       "<Figure size 432x288 with 1 Axes>"
      ]
     },
     "metadata": {
      "needs_background": "light"
     },
     "output_type": "display_data"
    }
   ],
   "source": [
    "plt.scatter(bos['PRICE'],bos['DIS'])\n",
    "plt.xlabel('Price',size=18)\n",
    "plt.ylabel('Distance to Employment Centers',size=14)\n",
    "plt.show()"
   ]
  },
  {
   "cell_type": "markdown",
   "metadata": {},
   "source": [
    "### Check for Missing Values"
   ]
  },
  {
   "cell_type": "code",
   "execution_count": 9,
   "metadata": {},
   "outputs": [
    {
     "data": {
      "text/plain": [
       "CRIM       0\n",
       "ZN         0\n",
       "INDUS      0\n",
       "CHAS       0\n",
       "NOX        0\n",
       "RM         0\n",
       "AGE        0\n",
       "DIS        0\n",
       "RAD        0\n",
       "TAX        0\n",
       "PTRATIO    0\n",
       "B          0\n",
       "LSTAT      0\n",
       "PRICE      0\n",
       "dtype: int64"
      ]
     },
     "execution_count": 9,
     "metadata": {},
     "output_type": "execute_result"
    }
   ],
   "source": [
    "bos.isnull().sum()"
   ]
  },
  {
   "cell_type": "code",
   "execution_count": 10,
   "metadata": {},
   "outputs": [
    {
     "data": {
      "text/plain": [
       "22.532806324110677"
      ]
     },
     "execution_count": 10,
     "metadata": {},
     "output_type": "execute_result"
    }
   ],
   "source": [
    "bos['PRICE'].mean()"
   ]
  },
  {
   "cell_type": "code",
   "execution_count": 11,
   "metadata": {},
   "outputs": [
    {
     "data": {
      "text/plain": [
       "<matplotlib.axes._subplots.AxesSubplot at 0x121f2ce50>"
      ]
     },
     "execution_count": 11,
     "metadata": {},
     "output_type": "execute_result"
    },
    {
     "data": {
      "image/png": "[encoded data removed]",
      "text/plain": [
       "<Figure size 432x288 with 1 Axes>"
      ]
     },
     "metadata": {
      "needs_background": "light"
     },
     "output_type": "display_data"
    }
   ],
   "source": [
    "sns.distplot(bos['PRICE'])"
   ]
  },
  {
   "cell_type": "markdown",
   "metadata": {},
   "source": [
    "## Rearrange Data"
   ]
  },
  {
   "cell_type": "code",
   "execution_count": 12,
   "metadata": {},
   "outputs": [
    {
     "data": {
      "text/plain": [
       "array(['CRIM', 'ZN', 'INDUS', 'CHAS', 'NOX', 'RM', 'AGE', 'DIS', 'RAD',\n",
       "       'TAX', 'PTRATIO', 'B', 'LSTAT', 'PRICE'], dtype=object)"
      ]
     },
     "execution_count": 12,
     "metadata": {},
     "output_type": "execute_result"
    }
   ],
   "source": [
    "# To make our data frame more organized, we prefer to place the dependent variable in the beginning of the df\n",
    "# Since each problem is different, that must be done manually\n",
    "# We can display all possible features and then choose the desired order\n",
    "bos.columns.values"
   ]
  },
  {
   "cell_type": "code",
   "execution_count": 13,
   "metadata": {},
   "outputs": [],
   "source": [
    "cols = ['PRICE', 'ZN', 'B', 'DIS','INDUS', 'CHAS', 'NOX', 'RM', 'AGE', 'RAD',\n",
    "       'TAX', 'PTRATIO', 'LSTAT']"
   ]
  },
  {
   "cell_type": "code",
   "execution_count": 14,
   "metadata": {},
   "outputs": [
    {
     "data": {
      "text/html": [
       "<div>\n",
       "<style scoped>\n",
       "    .dataframe tbody tr th:only-of-type {\n",
       "        vertical-align: middle;\n",
       "    }\n",
       "\n",
       "    .dataframe tbody tr th {\n",
       "        vertical-align: top;\n",
       "    }\n",
       "\n",
       "    .dataframe thead th {\n",
       "        text-align: right;\n",
       "    }\n",
       "</style>\n",
       "<table border=\"1\" class=\"dataframe\">\n",
       "  <thead>\n",
       "    <tr style=\"text-align: right;\">\n",
       "      <th></th>\n",
       "      <th>PRICE</th>\n",
       "      <th>ZN</th>\n",
       "      <th>B</th>\n",
       "      <th>DIS</th>\n",
       "      <th>INDUS</th>\n",
       "      <th>CHAS</th>\n",
       "      <th>NOX</th>\n",
       "      <th>RM</th>\n",
       "      <th>AGE</th>\n",
       "      <th>RAD</th>\n",
       "      <th>TAX</th>\n",
       "      <th>PTRATIO</th>\n",
       "      <th>LSTAT</th>\n",
       "    </tr>\n",
       "  </thead>\n",
       "  <tbody>\n",
       "    <tr>\n",
       "      <th>0</th>\n",
       "      <td>24.0</td>\n",
       "      <td>18.0</td>\n",
       "      <td>396.90</td>\n",
       "      <td>4.0900</td>\n",
       "      <td>2.31</td>\n",
       "      <td>0.0</td>\n",
       "      <td>0.538</td>\n",
       "      <td>6.575</td>\n",
       "      <td>65.2</td>\n",
       "      <td>1.0</td>\n",
       "      <td>296.0</td>\n",
       "      <td>15.3</td>\n",
       "      <td>4.98</td>\n",
       "    </tr>\n",
       "    <tr>\n",
       "      <th>1</th>\n",
       "      <td>21.6</td>\n",
       "      <td>0.0</td>\n",
       "      <td>396.90</td>\n",
       "      <td>4.9671</td>\n",
       "      <td>7.07</td>\n",
       "      <td>0.0</td>\n",
       "      <td>0.469</td>\n",
       "      <td>6.421</td>\n",
       "      <td>78.9</td>\n",
       "      <td>2.0</td>\n",
       "      <td>242.0</td>\n",
       "      <td>17.8</td>\n",
       "      <td>9.14</td>\n",
       "    </tr>\n",
       "    <tr>\n",
       "      <th>2</th>\n",
       "      <td>34.7</td>\n",
       "      <td>0.0</td>\n",
       "      <td>392.83</td>\n",
       "      <td>4.9671</td>\n",
       "      <td>7.07</td>\n",
       "      <td>0.0</td>\n",
       "      <td>0.469</td>\n",
       "      <td>7.185</td>\n",
       "      <td>61.1</td>\n",
       "      <td>2.0</td>\n",
       "      <td>242.0</td>\n",
       "      <td>17.8</td>\n",
       "      <td>4.03</td>\n",
       "    </tr>\n",
       "    <tr>\n",
       "      <th>3</th>\n",
       "      <td>33.4</td>\n",
       "      <td>0.0</td>\n",
       "      <td>394.63</td>\n",
       "      <td>6.0622</td>\n",
       "      <td>2.18</td>\n",
       "      <td>0.0</td>\n",
       "      <td>0.458</td>\n",
       "      <td>6.998</td>\n",
       "      <td>45.8</td>\n",
       "      <td>3.0</td>\n",
       "      <td>222.0</td>\n",
       "      <td>18.7</td>\n",
       "      <td>2.94</td>\n",
       "    </tr>\n",
       "    <tr>\n",
       "      <th>4</th>\n",
       "      <td>36.2</td>\n",
       "      <td>0.0</td>\n",
       "      <td>396.90</td>\n",
       "      <td>6.0622</td>\n",
       "      <td>2.18</td>\n",
       "      <td>0.0</td>\n",
       "      <td>0.458</td>\n",
       "      <td>7.147</td>\n",
       "      <td>54.2</td>\n",
       "      <td>3.0</td>\n",
       "      <td>222.0</td>\n",
       "      <td>18.7</td>\n",
       "      <td>5.33</td>\n",
       "    </tr>\n",
       "  </tbody>\n",
       "</table>\n",
       "</div>"
      ],
      "text/plain": [
       "   PRICE    ZN       B     DIS  INDUS  CHAS    NOX     RM   AGE  RAD    TAX  \\\n",
       "0   24.0  18.0  396.90  4.0900   2.31   0.0  0.538  6.575  65.2  1.0  296.0   \n",
       "1   21.6   0.0  396.90  4.9671   7.07   0.0  0.469  6.421  78.9  2.0  242.0   \n",
       "2   34.7   0.0  392.83  4.9671   7.07   0.0  0.469  7.185  61.1  2.0  242.0   \n",
       "3   33.4   0.0  394.63  6.0622   2.18   0.0  0.458  6.998  45.8  3.0  222.0   \n",
       "4   36.2   0.0  396.90  6.0622   2.18   0.0  0.458  7.147  54.2  3.0  222.0   \n",
       "\n",
       "   PTRATIO  LSTAT  \n",
       "0     15.3   4.98  \n",
       "1     17.8   9.14  \n",
       "2     17.8   4.03  \n",
       "3     18.7   2.94  \n",
       "4     18.7   5.33  "
      ]
     },
     "execution_count": 14,
     "metadata": {},
     "output_type": "execute_result"
    }
   ],
   "source": [
    "# To implement the reordering, we will create a new df, which is equal to the old one but with the new order of features\n",
    "data_preprocessed = bos[cols]\n",
    "data_preprocessed.head()"
   ]
  },
  {
   "cell_type": "markdown",
   "metadata": {},
   "source": [
    "# 1. Linear Regression Model"
   ]
  },
  {
   "cell_type": "markdown",
   "metadata": {},
   "source": [
    "## Declare the Inputs and Target Variables"
   ]
  },
  {
   "cell_type": "code",
   "execution_count": 15,
   "metadata": {},
   "outputs": [],
   "source": [
    "target = bos['PRICE']\n",
    "inputs = bos.drop(['PRICE'],axis=1)"
   ]
  },
  {
   "cell_type": "code",
   "execution_count": 16,
   "metadata": {},
   "outputs": [
    {
     "name": "stdout",
     "output_type": "stream",
     "text": [
      "506\n",
      "506\n"
     ]
    }
   ],
   "source": [
    "print(len(target))\n",
    "print(len(inputs))"
   ]
  },
  {
   "cell_type": "markdown",
   "metadata": {},
   "source": [
    "## Apply data normalization (Scaling) to improve the prediction result\n",
    "\n",
    "- Use StandardScaler and then train your Linear Regression Model. Compare the R Square score with previous one you got\n",
    "\n",
    "- Use MinMaxScaler and then train your Linear Regression Model. Compare the R Square score with previous one you got\n",
    "\n",
    "- Watch this video: https://www.youtube.com/watch?v=YKP31T5LIXQ"
   ]
  },
  {
   "cell_type": "markdown",
   "metadata": {},
   "source": [
    "- Note: Apply Data Normalization on `linear regression and Support Vector Machines classification models` because it will `converge` faster on normalized data"
   ]
  },
  {
   "cell_type": "markdown",
   "metadata": {},
   "source": [
    "## Scale The Data: StandardScaler "
   ]
  },
  {
   "cell_type": "code",
   "execution_count": 19,
   "metadata": {},
   "outputs": [
    {
     "data": {
      "text/plain": [
       "StandardScaler(copy=True, with_mean=True, with_std=True)"
      ]
     },
     "execution_count": 19,
     "metadata": {},
     "output_type": "execute_result"
    }
   ],
   "source": [
    "from sklearn.preprocessing import StandardScaler\n",
    "\n",
    "# Create a scaler object \n",
    "scaler = StandardScaler()\n",
    "\n",
    "# Fit the inputs (calculate the mean and standard deviation feature-wise)\n",
    "scaler = scaler.fit(inputs)\n",
    "scaler"
   ]
  },
  {
   "cell_type": "code",
   "execution_count": 20,
   "metadata": {},
   "outputs": [],
   "source": [
    "# Scale the features and store them in a new variable (the actual scaling procedure)\n",
    "inputs_scaled = scaler.transform(inputs)"
   ]
  },
  {
   "cell_type": "markdown",
   "metadata": {},
   "source": [
    "### Train Test Split"
   ]
  },
  {
   "cell_type": "code",
   "execution_count": 21,
   "metadata": {},
   "outputs": [],
   "source": [
    "# Import module for splitting data\n",
    "from sklearn.model_selection import train_test_split\n",
    "\n",
    "# split dataset into 75% training and 25% test          #x          #y                    #same sample of data\n",
    "x_train, x_test, y_train, y_test = train_test_split(inputs_scaled, target, test_size=0.25, random_state=0)\n"
   ]
  },
  {
   "cell_type": "code",
   "execution_count": 23,
   "metadata": {},
   "outputs": [],
   "source": [
    "# Let's check the outputs of the regression\n",
    "# I'll store them in y_hat as this is the 'theoretical' name of the predictions\n",
    "y_hat = reg.predict(x_train)"
   ]
  },
  {
   "cell_type": "markdown",
   "metadata": {},
   "source": [
    "### Create The Regression"
   ]
  },
  {
   "cell_type": "code",
   "execution_count": 24,
   "metadata": {},
   "outputs": [
    {
     "name": "stdout",
     "output_type": "stream",
     "text": [
      "Standard Scaler: Regression Score: 0.6354638433202129 R-Squared: 0.7697699488741149\n"
     ]
    }
   ],
   "source": [
    "from sklearn.linear_model import LinearRegression\n",
    "from sklearn.metrics import r2_score, mean_squared_error\n",
    "\n",
    "# Create a linear regression object\n",
    "reg = LinearRegression()\n",
    "# Fit the regression with the scaled TRAIN inputs and targets\n",
    "\n",
    "reg.fit(x_train,y_train)\n",
    "\n",
    "print('Standard Scaler: Regression Score:',reg.score(x_test,y_test), 'R-Squared:',r2_score(y_train, y_hat))"
   ]
  },
  {
   "cell_type": "markdown",
   "metadata": {},
   "source": [
    "Make predictions on your test set (X_test) and see how well it compares to the actual targets (y_test) from the test set."
   ]
  },
  {
   "cell_type": "code",
   "execution_count": 48,
   "metadata": {
    "scrolled": true
   },
   "outputs": [
    {
     "data": {
      "image/png": "[encoded data removed]",
      "text/plain": [
       "<Figure size 432x288 with 1 Axes>"
      ]
     },
     "metadata": {
      "needs_background": "light"
     },
     "output_type": "display_data"
    }
   ],
   "source": [
    "# The simplest way to compare the targets (y_train) and the predictions (y_hat) is to plot them on a scatter plot\n",
    "# The closer the points to the 45-degree line, the better the prediction\n",
    "plt.scatter(y_train, y_hat)\n",
    "# Let's also name the axes\n",
    "plt.xlabel('Targets (y_train)',size=18)\n",
    "plt.ylabel('Predictions (y_hat)',size=18)\n",
    "# Sometimes the plot will have different scales of the x-axis and the y-axis\n",
    "# This is an issue as we won't be able to interpret the '45-degree line'\n",
    "# We want the x-axis and the y-axis to be the same\n",
    "# plt.xlim(6,13)\n",
    "# plt.ylim(6,13)\n",
    "plt.show()"
   ]
  },
  {
   "cell_type": "code",
   "execution_count": 49,
   "metadata": {},
   "outputs": [
    {
     "data": {
      "text/plain": [
       "Text(0.5, 1.0, 'Residuals PDF')"
      ]
     },
     "execution_count": 49,
     "metadata": {},
     "output_type": "execute_result"
    },
    {
     "data": {
      "image/png": "[encoded data removed]",
      "text/plain": [
       "<Figure size 432x288 with 1 Axes>"
      ]
     },
     "metadata": {
      "needs_background": "light"
     },
     "output_type": "display_data"
    }
   ],
   "source": [
    "# Another useful check of our model is a residual plot\n",
    "# We can plot the PDF of the residuals and check for anomalies\n",
    "sns.distplot(y_train - y_hat)\n",
    "\n",
    "# Include a title\n",
    "plt.title(\"Residuals PDF\", size=18)\n",
    "\n",
    "# In the best case scenario this plot should be normally distributed\n",
    "# In our case we notice that there are many negative residuals (far away from the mean)\n",
    "# Given the definition of the residuals (y_train - y_hat), negative values imply\n",
    "# that y_hat (predictions) are much higher than y_train (the targets)\n",
    "# This is food for thought to improve our model"
   ]
  },
  {
   "cell_type": "markdown",
   "metadata": {},
   "source": [
    "## Find the R-Squared of the Model"
   ]
  },
  {
   "cell_type": "code",
   "execution_count": 50,
   "metadata": {},
   "outputs": [
    {
     "data": {
      "text/plain": [
       "0.7697699488741149"
      ]
     },
     "execution_count": 50,
     "metadata": {},
     "output_type": "execute_result"
    }
   ],
   "source": [
    "# Find the R-squared of the model\n",
    "#reg.score(x_train,y_train)\n",
    "r2_score(y_train, y_hat)\n",
    "# Note that this is NOT the adjusted R-squared\n",
    "# in other words... find the Adjusted R-squared to have the appropriate measure :)"
   ]
  },
  {
   "cell_type": "markdown",
   "metadata": {},
   "source": [
    "## Find Mean Squared Error"
   ]
  },
  {
   "cell_type": "code",
   "execution_count": 51,
   "metadata": {},
   "outputs": [
    {
     "data": {
      "text/plain": [
       "19.640519427908043"
      ]
     },
     "execution_count": 51,
     "metadata": {},
     "output_type": "execute_result"
    }
   ],
   "source": [
    "mean_squared_error(y_train,y_hat)"
   ]
  },
  {
   "cell_type": "markdown",
   "metadata": {},
   "source": [
    "### Finding the Weights and Bias"
   ]
  },
  {
   "cell_type": "code",
   "execution_count": 52,
   "metadata": {},
   "outputs": [
    {
     "data": {
      "text/plain": [
       "22.40880610329137"
      ]
     },
     "execution_count": 52,
     "metadata": {},
     "output_type": "execute_result"
    }
   ],
   "source": [
    "# Obtain the bias (intercept) of the regression\n",
    "reg.intercept_"
   ]
  },
  {
   "cell_type": "code",
   "execution_count": 53,
   "metadata": {},
   "outputs": [
    {
     "data": {
      "text/plain": [
       "array([-1.01170421,  1.02558108, -0.03953238,  0.60731239, -1.80467996,\n",
       "        2.64552328, -0.19783648, -3.018615  ,  2.0883816 , -1.90212879,\n",
       "       -2.13154559,  0.77017134, -3.56070005])"
      ]
     },
     "execution_count": 53,
     "metadata": {},
     "output_type": "execute_result"
    }
   ],
   "source": [
    "# Obtain the weights (coefficients) of the regression\n",
    "reg.coef_\n",
    "\n",
    "# Note that they are barely interpretable if at all"
   ]
  },
  {
   "cell_type": "code",
   "execution_count": 54,
   "metadata": {},
   "outputs": [
    {
     "data": {
      "text/html": [
       "<div>\n",
       "<style scoped>\n",
       "    .dataframe tbody tr th:only-of-type {\n",
       "        vertical-align: middle;\n",
       "    }\n",
       "\n",
       "    .dataframe tbody tr th {\n",
       "        vertical-align: top;\n",
       "    }\n",
       "\n",
       "    .dataframe thead th {\n",
       "        text-align: right;\n",
       "    }\n",
       "</style>\n",
       "<table border=\"1\" class=\"dataframe\">\n",
       "  <thead>\n",
       "    <tr style=\"text-align: right;\">\n",
       "      <th></th>\n",
       "      <th>Features</th>\n",
       "      <th>Weights</th>\n",
       "    </tr>\n",
       "  </thead>\n",
       "  <tbody>\n",
       "    <tr>\n",
       "      <th>0</th>\n",
       "      <td>CRIM</td>\n",
       "      <td>-1.011704</td>\n",
       "    </tr>\n",
       "    <tr>\n",
       "      <th>1</th>\n",
       "      <td>ZN</td>\n",
       "      <td>1.025581</td>\n",
       "    </tr>\n",
       "    <tr>\n",
       "      <th>2</th>\n",
       "      <td>INDUS</td>\n",
       "      <td>-0.039532</td>\n",
       "    </tr>\n",
       "    <tr>\n",
       "      <th>3</th>\n",
       "      <td>CHAS</td>\n",
       "      <td>0.607312</td>\n",
       "    </tr>\n",
       "    <tr>\n",
       "      <th>4</th>\n",
       "      <td>NOX</td>\n",
       "      <td>-1.804680</td>\n",
       "    </tr>\n",
       "    <tr>\n",
       "      <th>5</th>\n",
       "      <td>RM</td>\n",
       "      <td>2.645523</td>\n",
       "    </tr>\n",
       "    <tr>\n",
       "      <th>6</th>\n",
       "      <td>AGE</td>\n",
       "      <td>-0.197836</td>\n",
       "    </tr>\n",
       "    <tr>\n",
       "      <th>7</th>\n",
       "      <td>DIS</td>\n",
       "      <td>-3.018615</td>\n",
       "    </tr>\n",
       "    <tr>\n",
       "      <th>8</th>\n",
       "      <td>RAD</td>\n",
       "      <td>2.088382</td>\n",
       "    </tr>\n",
       "    <tr>\n",
       "      <th>9</th>\n",
       "      <td>TAX</td>\n",
       "      <td>-1.902129</td>\n",
       "    </tr>\n",
       "    <tr>\n",
       "      <th>10</th>\n",
       "      <td>PTRATIO</td>\n",
       "      <td>-2.131546</td>\n",
       "    </tr>\n",
       "    <tr>\n",
       "      <th>11</th>\n",
       "      <td>B</td>\n",
       "      <td>0.770171</td>\n",
       "    </tr>\n",
       "    <tr>\n",
       "      <th>12</th>\n",
       "      <td>LSTAT</td>\n",
       "      <td>-3.560700</td>\n",
       "    </tr>\n",
       "  </tbody>\n",
       "</table>\n",
       "</div>"
      ],
      "text/plain": [
       "   Features   Weights\n",
       "0      CRIM -1.011704\n",
       "1        ZN  1.025581\n",
       "2     INDUS -0.039532\n",
       "3      CHAS  0.607312\n",
       "4       NOX -1.804680\n",
       "5        RM  2.645523\n",
       "6       AGE -0.197836\n",
       "7       DIS -3.018615\n",
       "8       RAD  2.088382\n",
       "9       TAX -1.902129\n",
       "10  PTRATIO -2.131546\n",
       "11        B  0.770171\n",
       "12    LSTAT -3.560700"
      ]
     },
     "execution_count": 54,
     "metadata": {},
     "output_type": "execute_result"
    }
   ],
   "source": [
    "# Create a regression summary where we can compare them with one-another\n",
    "reg_summary = pd.DataFrame(inputs.columns.values, columns=['Features'])\n",
    "reg_summary['Weights'] = reg.coef_\n",
    "reg_summary # A positive weight shows that as a feature increases in value, so does the log_price "
   ]
  },
  {
   "cell_type": "markdown",
   "metadata": {},
   "source": [
    "## Scale The Data: MinMax Scaler"
   ]
  },
  {
   "cell_type": "code",
   "execution_count": 27,
   "metadata": {},
   "outputs": [],
   "source": [
    "from sklearn.preprocessing import MinMaxScaler\n",
    "\n",
    "min_max_scaler = MinMaxScaler()\n",
    "\n",
    "X_minmax = min_max_scaler.fit_transform(inputs)"
   ]
  },
  {
   "cell_type": "markdown",
   "metadata": {},
   "source": [
    "### Train Test Split"
   ]
  },
  {
   "cell_type": "code",
   "execution_count": 32,
   "metadata": {},
   "outputs": [],
   "source": [
    "# Import module for splitting data\n",
    "from sklearn.model_selection import train_test_split\n",
    "\n",
    "# split dataset into 75% training and 25% test          #x      #y                    #same sample of data\n",
    "X_train, X_test, y_train, y_test = train_test_split(X_minmax, target, test_size=0.25, random_state=0)"
   ]
  },
  {
   "cell_type": "markdown",
   "metadata": {},
   "source": [
    "## Create regression Model "
   ]
  },
  {
   "cell_type": "code",
   "execution_count": 37,
   "metadata": {},
   "outputs": [
    {
     "name": "stdout",
     "output_type": "stream",
     "text": [
      "MinMaxScaler:  0.6354638433202122 0.7697699488741149\n"
     ]
    }
   ],
   "source": [
    "from sklearn.linear_model import LinearRegression\n",
    "from sklearn.metrics import r2_score, mean_squared_error\n",
    "\n",
    "# Create a linear regression object\n",
    "reg = LinearRegression()\n",
    "# Fit the regression with the scaled TRAIN inputs and targets\n",
    "\n",
    "reg.fit(X_train,y_train)\n",
    "\n",
    "print('MinMaxScaler: ',reg.score(X_test,y_test),r2_score(y_train, y_hat))"
   ]
  },
  {
   "cell_type": "code",
   "execution_count": 57,
   "metadata": {},
   "outputs": [
    {
     "data": {
      "text/plain": [
       "array([19.14222122, 20.62889531, 23.19328311, 20.13127872, 18.73618107])"
      ]
     },
     "execution_count": 57,
     "metadata": {},
     "output_type": "execute_result"
    }
   ],
   "source": [
    "# Let's check the outputs of the regression\n",
    "# I'll store them in y_hat as this is the 'theoretical' name of the predictions\n",
    "y_hat = reg.predict(X_train)\n",
    "y_hat[:5]"
   ]
  },
  {
   "cell_type": "markdown",
   "metadata": {},
   "source": [
    "## Testing"
   ]
  },
  {
   "cell_type": "markdown",
   "metadata": {},
   "source": [
    "- Once we have trained and fine-tuned our model, we can proceed to testing it\n",
    "- Testing is done on a dataset that the algorithm has never seen\n",
    "- Luckily we have prepared such a dataset\n",
    "- Our test inputs are 'x_test', while the outputs: 'y_test' \n",
    "- We SHOULD NOT TRAIN THE MODEL ON THEM, we just feed them and find the predictions\n",
    "- If the predictions are far off, we will know that our model overfitted"
   ]
  },
  {
   "cell_type": "code",
   "execution_count": 63,
   "metadata": {},
   "outputs": [],
   "source": [
    "y_hat_test = reg.predict(x_test)"
   ]
  },
  {
   "cell_type": "code",
   "execution_count": 66,
   "metadata": {},
   "outputs": [
    {
     "data": {
      "image/png": "[encoded data removed]",
      "text/plain": [
       "<Figure size 432x288 with 1 Axes>"
      ]
     },
     "metadata": {
      "needs_background": "light"
     },
     "output_type": "display_data"
    }
   ],
   "source": [
    "plt.scatter(y_test,y_hat_test,alpha=.5)\n",
    "plt.xlabel('Targets (y_test)',size=18)\n",
    "plt.ylabel('Predictions (y_hat_test)',size=18)\n",
    "# plt.xlim(6,13)\n",
    "# plt.ylim(6,13)\n",
    "plt.show()"
   ]
  },
  {
   "cell_type": "code",
   "execution_count": 68,
   "metadata": {},
   "outputs": [
    {
     "data": {
      "text/html": [
       "<div>\n",
       "<style scoped>\n",
       "    .dataframe tbody tr th:only-of-type {\n",
       "        vertical-align: middle;\n",
       "    }\n",
       "\n",
       "    .dataframe tbody tr th {\n",
       "        vertical-align: top;\n",
       "    }\n",
       "\n",
       "    .dataframe thead th {\n",
       "        text-align: right;\n",
       "    }\n",
       "</style>\n",
       "<table border=\"1\" class=\"dataframe\">\n",
       "  <thead>\n",
       "    <tr style=\"text-align: right;\">\n",
       "      <th></th>\n",
       "      <th>Prediction</th>\n",
       "    </tr>\n",
       "  </thead>\n",
       "  <tbody>\n",
       "    <tr>\n",
       "      <th>0</th>\n",
       "      <td>6.865315e+10</td>\n",
       "    </tr>\n",
       "    <tr>\n",
       "      <th>1</th>\n",
       "      <td>1.806058e+10</td>\n",
       "    </tr>\n",
       "    <tr>\n",
       "      <th>2</th>\n",
       "      <td>4.830087e+12</td>\n",
       "    </tr>\n",
       "    <tr>\n",
       "      <th>3</th>\n",
       "      <td>1.564834e+05</td>\n",
       "    </tr>\n",
       "    <tr>\n",
       "      <th>4</th>\n",
       "      <td>1.841084e+09</td>\n",
       "    </tr>\n",
       "  </tbody>\n",
       "</table>\n",
       "</div>"
      ],
      "text/plain": [
       "     Prediction\n",
       "0  6.865315e+10\n",
       "1  1.806058e+10\n",
       "2  4.830087e+12\n",
       "3  1.564834e+05\n",
       "4  1.841084e+09"
      ]
     },
     "execution_count": 68,
     "metadata": {},
     "output_type": "execute_result"
    }
   ],
   "source": [
    "import numpy as np\n",
    "# Finally, let's manually check these predictions\n",
    "# To obtain the actual prices, we take the exponential of the log_price\n",
    "df_pf = pd.DataFrame(np.exp(y_hat_test), columns=['Prediction'])\n",
    "df_pf.head()"
   ]
  },
  {
   "cell_type": "code",
   "execution_count": 69,
   "metadata": {},
   "outputs": [
    {
     "data": {
      "text/html": [
       "<div>\n",
       "<style scoped>\n",
       "    .dataframe tbody tr th:only-of-type {\n",
       "        vertical-align: middle;\n",
       "    }\n",
       "\n",
       "    .dataframe tbody tr th {\n",
       "        vertical-align: top;\n",
       "    }\n",
       "\n",
       "    .dataframe thead th {\n",
       "        text-align: right;\n",
       "    }\n",
       "</style>\n",
       "<table border=\"1\" class=\"dataframe\">\n",
       "  <thead>\n",
       "    <tr style=\"text-align: right;\">\n",
       "      <th></th>\n",
       "      <th>Prediction</th>\n",
       "      <th>Target</th>\n",
       "    </tr>\n",
       "  </thead>\n",
       "  <tbody>\n",
       "    <tr>\n",
       "      <th>0</th>\n",
       "      <td>6.865315e+10</td>\n",
       "      <td>NaN</td>\n",
       "    </tr>\n",
       "    <tr>\n",
       "      <th>1</th>\n",
       "      <td>1.806058e+10</td>\n",
       "      <td>2.403039e+09</td>\n",
       "    </tr>\n",
       "    <tr>\n",
       "      <th>2</th>\n",
       "      <td>4.830087e+12</td>\n",
       "      <td>NaN</td>\n",
       "    </tr>\n",
       "    <tr>\n",
       "      <th>3</th>\n",
       "      <td>1.564834e+05</td>\n",
       "      <td>NaN</td>\n",
       "    </tr>\n",
       "    <tr>\n",
       "      <th>4</th>\n",
       "      <td>1.841084e+09</td>\n",
       "      <td>NaN</td>\n",
       "    </tr>\n",
       "    <tr>\n",
       "      <th>...</th>\n",
       "      <td>...</td>\n",
       "      <td>...</td>\n",
       "    </tr>\n",
       "    <tr>\n",
       "      <th>122</th>\n",
       "      <td>4.136925e+07</td>\n",
       "      <td>NaN</td>\n",
       "    </tr>\n",
       "    <tr>\n",
       "      <th>123</th>\n",
       "      <td>2.179199e+09</td>\n",
       "      <td>NaN</td>\n",
       "    </tr>\n",
       "    <tr>\n",
       "      <th>124</th>\n",
       "      <td>1.834849e+10</td>\n",
       "      <td>1.461289e+08</td>\n",
       "    </tr>\n",
       "    <tr>\n",
       "      <th>125</th>\n",
       "      <td>6.436066e+08</td>\n",
       "      <td>NaN</td>\n",
       "    </tr>\n",
       "    <tr>\n",
       "      <th>126</th>\n",
       "      <td>1.898297e+15</td>\n",
       "      <td>NaN</td>\n",
       "    </tr>\n",
       "  </tbody>\n",
       "</table>\n",
       "<p>127 rows × 2 columns</p>\n",
       "</div>"
      ],
      "text/plain": [
       "       Prediction        Target\n",
       "0    6.865315e+10           NaN\n",
       "1    1.806058e+10  2.403039e+09\n",
       "2    4.830087e+12           NaN\n",
       "3    1.564834e+05           NaN\n",
       "4    1.841084e+09           NaN\n",
       "..            ...           ...\n",
       "122  4.136925e+07           NaN\n",
       "123  2.179199e+09           NaN\n",
       "124  1.834849e+10  1.461289e+08\n",
       "125  6.436066e+08           NaN\n",
       "126  1.898297e+15           NaN\n",
       "\n",
       "[127 rows x 2 columns]"
      ]
     },
     "execution_count": 69,
     "metadata": {},
     "output_type": "execute_result"
    }
   ],
   "source": [
    "# We can also include the test targets in that data frame (so we can manually compare them)\n",
    "df_pf['Target'] = np.exp(y_test)\n",
    "df_pf\n",
    "\n",
    "# Note that we have a lot of missing values\n",
    "# There is no reason to have ANY missing values, though\n",
    "# This suggests that something is wrong with the data frame / indexing"
   ]
  },
  {
   "cell_type": "code",
   "execution_count": 70,
   "metadata": {},
   "outputs": [
    {
     "data": {
      "text/plain": [
       "0    22.6\n",
       "1    50.0\n",
       "2    23.0\n",
       "3     8.3\n",
       "4    21.2\n",
       "Name: PRICE, dtype: float64"
      ]
     },
     "execution_count": 70,
     "metadata": {},
     "output_type": "execute_result"
    }
   ],
   "source": [
    "# After displaying y_test, we find what the issue is\n",
    "# The old indexes are preserved (recall earlier in that code we made a note on that)\n",
    "# The code was: data_cleaned = data_4.reset_index(drop=True)\n",
    "\n",
    "# Therefore, to get a proper result, we must reset the index and drop the old indexing\n",
    "y_test = y_test.reset_index(drop=True)\n",
    "\n",
    "# Check the result\n",
    "y_test.head()"
   ]
  },
  {
   "cell_type": "code",
   "execution_count": 71,
   "metadata": {},
   "outputs": [
    {
     "data": {
      "text/html": [
       "<div>\n",
       "<style scoped>\n",
       "    .dataframe tbody tr th:only-of-type {\n",
       "        vertical-align: middle;\n",
       "    }\n",
       "\n",
       "    .dataframe tbody tr th {\n",
       "        vertical-align: top;\n",
       "    }\n",
       "\n",
       "    .dataframe thead th {\n",
       "        text-align: right;\n",
       "    }\n",
       "</style>\n",
       "<table border=\"1\" class=\"dataframe\">\n",
       "  <thead>\n",
       "    <tr style=\"text-align: right;\">\n",
       "      <th></th>\n",
       "      <th>Prediction</th>\n",
       "      <th>Target</th>\n",
       "    </tr>\n",
       "  </thead>\n",
       "  <tbody>\n",
       "    <tr>\n",
       "      <th>0</th>\n",
       "      <td>6.865315e+10</td>\n",
       "      <td>6.532137e+09</td>\n",
       "    </tr>\n",
       "    <tr>\n",
       "      <th>1</th>\n",
       "      <td>1.806058e+10</td>\n",
       "      <td>5.184706e+21</td>\n",
       "    </tr>\n",
       "    <tr>\n",
       "      <th>2</th>\n",
       "      <td>4.830087e+12</td>\n",
       "      <td>9.744803e+09</td>\n",
       "    </tr>\n",
       "    <tr>\n",
       "      <th>3</th>\n",
       "      <td>1.564834e+05</td>\n",
       "      <td>4.023872e+03</td>\n",
       "    </tr>\n",
       "    <tr>\n",
       "      <th>4</th>\n",
       "      <td>1.841084e+09</td>\n",
       "      <td>1.610805e+09</td>\n",
       "    </tr>\n",
       "    <tr>\n",
       "      <th>...</th>\n",
       "      <td>...</td>\n",
       "      <td>...</td>\n",
       "    </tr>\n",
       "    <tr>\n",
       "      <th>122</th>\n",
       "      <td>4.136925e+07</td>\n",
       "      <td>2.662643e+08</td>\n",
       "    </tr>\n",
       "    <tr>\n",
       "      <th>123</th>\n",
       "      <td>2.179199e+09</td>\n",
       "      <td>1.610805e+09</td>\n",
       "    </tr>\n",
       "    <tr>\n",
       "      <th>124</th>\n",
       "      <td>1.834849e+10</td>\n",
       "      <td>6.549045e+08</td>\n",
       "    </tr>\n",
       "    <tr>\n",
       "      <th>125</th>\n",
       "      <td>6.436066e+08</td>\n",
       "      <td>1.461289e+08</td>\n",
       "    </tr>\n",
       "    <tr>\n",
       "      <th>126</th>\n",
       "      <td>1.898297e+15</td>\n",
       "      <td>3.202106e+14</td>\n",
       "    </tr>\n",
       "  </tbody>\n",
       "</table>\n",
       "<p>127 rows × 2 columns</p>\n",
       "</div>"
      ],
      "text/plain": [
       "       Prediction        Target\n",
       "0    6.865315e+10  6.532137e+09\n",
       "1    1.806058e+10  5.184706e+21\n",
       "2    4.830087e+12  9.744803e+09\n",
       "3    1.564834e+05  4.023872e+03\n",
       "4    1.841084e+09  1.610805e+09\n",
       "..            ...           ...\n",
       "122  4.136925e+07  2.662643e+08\n",
       "123  2.179199e+09  1.610805e+09\n",
       "124  1.834849e+10  6.549045e+08\n",
       "125  6.436066e+08  1.461289e+08\n",
       "126  1.898297e+15  3.202106e+14\n",
       "\n",
       "[127 rows x 2 columns]"
      ]
     },
     "execution_count": 71,
     "metadata": {},
     "output_type": "execute_result"
    }
   ],
   "source": [
    "# Let's overwrite the 'Target' column with the appropriate values\n",
    "# Again, we need the exponential of the test log price\n",
    "df_pf['Target'] = np.exp(y_test)\n",
    "df_pf"
   ]
  },
  {
   "cell_type": "code",
   "execution_count": 78,
   "metadata": {},
   "outputs": [
    {
     "data": {
      "text/plain": [
       "<matplotlib.axes._subplots.AxesSubplot at 0x1210e79d0>"
      ]
     },
     "execution_count": 78,
     "metadata": {},
     "output_type": "execute_result"
    },
    {
     "data": {
      "image/png": "[encoded data removed]",
      "text/plain": [
       "<Figure size 432x288 with 1 Axes>"
      ]
     },
     "metadata": {
      "needs_background": "light"
     },
     "output_type": "display_data"
    }
   ],
   "source": [
    "bar_df = pd.DataFrame({'Actual': y_test, 'Predicted': y_hat_test})\n",
    "bar_df = bar_df.head(10)\n",
    "bar_df.plot(kind='bar')"
   ]
  },
  {
   "cell_type": "code",
   "execution_count": 72,
   "metadata": {},
   "outputs": [],
   "source": [
    "# Additionally, we can calculate the difference between the targets and the predictions\n",
    "# Note that this is actually the residual (we already plotted the residuals)\n",
    "df_pf['Residual'] = df_pf['Target'] - df_pf['Prediction']\n",
    "\n",
    "# Since OLS is basically an algorithm which minimizes the total sum of squared errors (residuals),\n",
    "# this comparison makes a lot of sense"
   ]
  },
  {
   "cell_type": "code",
   "execution_count": 73,
   "metadata": {},
   "outputs": [
    {
     "data": {
      "text/html": [
       "<div>\n",
       "<style scoped>\n",
       "    .dataframe tbody tr th:only-of-type {\n",
       "        vertical-align: middle;\n",
       "    }\n",
       "\n",
       "    .dataframe tbody tr th {\n",
       "        vertical-align: top;\n",
       "    }\n",
       "\n",
       "    .dataframe thead th {\n",
       "        text-align: right;\n",
       "    }\n",
       "</style>\n",
       "<table border=\"1\" class=\"dataframe\">\n",
       "  <thead>\n",
       "    <tr style=\"text-align: right;\">\n",
       "      <th></th>\n",
       "      <th>Prediction</th>\n",
       "      <th>Target</th>\n",
       "      <th>Residual</th>\n",
       "      <th>Difference%</th>\n",
       "    </tr>\n",
       "  </thead>\n",
       "  <tbody>\n",
       "    <tr>\n",
       "      <th>0</th>\n",
       "      <td>6.865315e+10</td>\n",
       "      <td>6.532137e+09</td>\n",
       "      <td>-6.212101e+10</td>\n",
       "      <td>951.005937</td>\n",
       "    </tr>\n",
       "    <tr>\n",
       "      <th>1</th>\n",
       "      <td>1.806058e+10</td>\n",
       "      <td>5.184706e+21</td>\n",
       "      <td>5.184706e+21</td>\n",
       "      <td>100.000000</td>\n",
       "    </tr>\n",
       "    <tr>\n",
       "      <th>2</th>\n",
       "      <td>4.830087e+12</td>\n",
       "      <td>9.744803e+09</td>\n",
       "      <td>-4.820342e+12</td>\n",
       "      <td>49465.768270</td>\n",
       "    </tr>\n",
       "    <tr>\n",
       "      <th>3</th>\n",
       "      <td>1.564834e+05</td>\n",
       "      <td>4.023872e+03</td>\n",
       "      <td>-1.524595e+05</td>\n",
       "      <td>3788.875570</td>\n",
       "    </tr>\n",
       "    <tr>\n",
       "      <th>4</th>\n",
       "      <td>1.841084e+09</td>\n",
       "      <td>1.610805e+09</td>\n",
       "      <td>-2.302789e+08</td>\n",
       "      <td>14.295890</td>\n",
       "    </tr>\n",
       "    <tr>\n",
       "      <th>...</th>\n",
       "      <td>...</td>\n",
       "      <td>...</td>\n",
       "      <td>...</td>\n",
       "      <td>...</td>\n",
       "    </tr>\n",
       "    <tr>\n",
       "      <th>122</th>\n",
       "      <td>4.136925e+07</td>\n",
       "      <td>2.662643e+08</td>\n",
       "      <td>2.248951e+08</td>\n",
       "      <td>84.463090</td>\n",
       "    </tr>\n",
       "    <tr>\n",
       "      <th>123</th>\n",
       "      <td>2.179199e+09</td>\n",
       "      <td>1.610805e+09</td>\n",
       "      <td>-5.683940e+08</td>\n",
       "      <td>35.286330</td>\n",
       "    </tr>\n",
       "    <tr>\n",
       "      <th>124</th>\n",
       "      <td>1.834849e+10</td>\n",
       "      <td>6.549045e+08</td>\n",
       "      <td>-1.769358e+10</td>\n",
       "      <td>2701.704327</td>\n",
       "    </tr>\n",
       "    <tr>\n",
       "      <th>125</th>\n",
       "      <td>6.436066e+08</td>\n",
       "      <td>1.461289e+08</td>\n",
       "      <td>-4.974776e+08</td>\n",
       "      <td>340.437415</td>\n",
       "    </tr>\n",
       "    <tr>\n",
       "      <th>126</th>\n",
       "      <td>1.898297e+15</td>\n",
       "      <td>3.202106e+14</td>\n",
       "      <td>-1.578087e+15</td>\n",
       "      <td>492.827739</td>\n",
       "    </tr>\n",
       "  </tbody>\n",
       "</table>\n",
       "<p>127 rows × 4 columns</p>\n",
       "</div>"
      ],
      "text/plain": [
       "       Prediction        Target      Residual   Difference%\n",
       "0    6.865315e+10  6.532137e+09 -6.212101e+10    951.005937\n",
       "1    1.806058e+10  5.184706e+21  5.184706e+21    100.000000\n",
       "2    4.830087e+12  9.744803e+09 -4.820342e+12  49465.768270\n",
       "3    1.564834e+05  4.023872e+03 -1.524595e+05   3788.875570\n",
       "4    1.841084e+09  1.610805e+09 -2.302789e+08     14.295890\n",
       "..            ...           ...           ...           ...\n",
       "122  4.136925e+07  2.662643e+08  2.248951e+08     84.463090\n",
       "123  2.179199e+09  1.610805e+09 -5.683940e+08     35.286330\n",
       "124  1.834849e+10  6.549045e+08 -1.769358e+10   2701.704327\n",
       "125  6.436066e+08  1.461289e+08 -4.974776e+08    340.437415\n",
       "126  1.898297e+15  3.202106e+14 -1.578087e+15    492.827739\n",
       "\n",
       "[127 rows x 4 columns]"
      ]
     },
     "execution_count": 73,
     "metadata": {},
     "output_type": "execute_result"
    }
   ],
   "source": [
    "# Finally, it makes sense to see how far off we are from the result percentage-wise\n",
    "# Here, we take the absolute difference in %, so we can easily order the data frame\n",
    "df_pf['Difference%'] = np.absolute(df_pf['Residual']/df_pf['Target']*100)\n",
    "df_pf"
   ]
  },
  {
   "cell_type": "markdown",
   "metadata": {},
   "source": [
    "# 2. Ridge Regression Model"
   ]
  },
  {
   "cell_type": "code",
   "execution_count": 61,
   "metadata": {},
   "outputs": [
    {
     "data": {
      "text/html": [
       "<div>\n",
       "<style scoped>\n",
       "    .dataframe tbody tr th:only-of-type {\n",
       "        vertical-align: middle;\n",
       "    }\n",
       "\n",
       "    .dataframe tbody tr th {\n",
       "        vertical-align: top;\n",
       "    }\n",
       "\n",
       "    .dataframe thead th {\n",
       "        text-align: right;\n",
       "    }\n",
       "</style>\n",
       "<table border=\"1\" class=\"dataframe\">\n",
       "  <thead>\n",
       "    <tr style=\"text-align: right;\">\n",
       "      <th></th>\n",
       "      <th>CRIM</th>\n",
       "      <th>ZN</th>\n",
       "      <th>INDUS</th>\n",
       "      <th>CHAS</th>\n",
       "      <th>NOX</th>\n",
       "      <th>RM</th>\n",
       "      <th>AGE</th>\n",
       "      <th>DIS</th>\n",
       "      <th>RAD</th>\n",
       "      <th>TAX</th>\n",
       "      <th>PTRATIO</th>\n",
       "      <th>B</th>\n",
       "      <th>LSTAT</th>\n",
       "      <th>PRICE</th>\n",
       "    </tr>\n",
       "  </thead>\n",
       "  <tbody>\n",
       "    <tr>\n",
       "      <th>0</th>\n",
       "      <td>0.00632</td>\n",
       "      <td>18.0</td>\n",
       "      <td>2.31</td>\n",
       "      <td>0.0</td>\n",
       "      <td>0.538</td>\n",
       "      <td>6.575</td>\n",
       "      <td>65.2</td>\n",
       "      <td>4.0900</td>\n",
       "      <td>1.0</td>\n",
       "      <td>296.0</td>\n",
       "      <td>15.3</td>\n",
       "      <td>396.9</td>\n",
       "      <td>4.98</td>\n",
       "      <td>24.0</td>\n",
       "    </tr>\n",
       "    <tr>\n",
       "      <th>1</th>\n",
       "      <td>0.02731</td>\n",
       "      <td>0.0</td>\n",
       "      <td>7.07</td>\n",
       "      <td>0.0</td>\n",
       "      <td>0.469</td>\n",
       "      <td>6.421</td>\n",
       "      <td>78.9</td>\n",
       "      <td>4.9671</td>\n",
       "      <td>2.0</td>\n",
       "      <td>242.0</td>\n",
       "      <td>17.8</td>\n",
       "      <td>396.9</td>\n",
       "      <td>9.14</td>\n",
       "      <td>21.6</td>\n",
       "    </tr>\n",
       "  </tbody>\n",
       "</table>\n",
       "</div>"
      ],
      "text/plain": [
       "      CRIM    ZN  INDUS  CHAS    NOX     RM   AGE     DIS  RAD    TAX  \\\n",
       "0  0.00632  18.0   2.31   0.0  0.538  6.575  65.2  4.0900  1.0  296.0   \n",
       "1  0.02731   0.0   7.07   0.0  0.469  6.421  78.9  4.9671  2.0  242.0   \n",
       "\n",
       "   PTRATIO      B  LSTAT  PRICE  \n",
       "0     15.3  396.9   4.98   24.0  \n",
       "1     17.8  396.9   9.14   21.6  "
      ]
     },
     "execution_count": 61,
     "metadata": {},
     "output_type": "execute_result"
    }
   ],
   "source": [
    "bos.head(2)"
   ]
  },
  {
   "cell_type": "code",
   "execution_count": 147,
   "metadata": {},
   "outputs": [
    {
     "data": {
      "text/plain": [
       "Ridge(alpha=1.0, copy_X=True, fit_intercept=True, max_iter=None,\n",
       "      normalize=False, random_state=None, solver='auto', tol=0.001)"
      ]
     },
     "execution_count": 147,
     "metadata": {},
     "output_type": "execute_result"
    }
   ],
   "source": [
    "import numpy as np\n",
    "from sklearn.linear_model import Ridge\n",
    "from sklearn.model_selection import cross_val_score\n",
    "from sklearn.model_selection import train_test_split \n",
    "from sklearn.preprocessing import StandardScaler\n",
    "\n",
    "# Grab features\n",
    "X = bos.drop('PRICE', axis=1)\n",
    "y = bos['PRICE']\n",
    "\n",
    "# Create Scaler Object\n",
    "scaler = StandardScaler()\n",
    "\n",
    "# Scale the features\n",
    "scaler.fit(X)\n",
    "\n",
    "# Scale the features and store them in a new variable (the actual scaling procedure)\n",
    "inputs_scaled = scaler.transform(X)\n",
    "\n",
    "# Split the data\n",
    "X_train, X_test, y_train, y_test = train_test_split(inputs_scaled,y,test_size=0.25, random_state=0)\n",
    "\n",
    "# Instantiate the Ridge Model \n",
    "model = Ridge()\n",
    "\n",
    "\n",
    "model.fit(X_train, y_train)\n",
    "\n"
   ]
  },
  {
   "cell_type": "code",
   "execution_count": 148,
   "metadata": {},
   "outputs": [
    {
     "data": {
      "text/plain": [
       "0.7697534403324298"
      ]
     },
     "execution_count": 148,
     "metadata": {},
     "output_type": "execute_result"
    }
   ],
   "source": [
    "# Single training and test split score\n",
    "model.score(X_train,y_train)"
   ]
  },
  {
   "cell_type": "code",
   "execution_count": 150,
   "metadata": {},
   "outputs": [
    {
     "data": {
      "text/plain": [
       "array([ 0.66089569,  0.74094893,  0.62923672,  0.08530169, -0.17029513])"
      ]
     },
     "execution_count": 150,
     "metadata": {},
     "output_type": "execute_result"
    }
   ],
   "source": [
    "#cv = cross validation: trains 5 different versions of the model\n",
    "cross_val_score(model, X, y, cv=5) "
   ]
  },
  {
   "cell_type": "code",
   "execution_count": 152,
   "metadata": {},
   "outputs": [
    {
     "name": "stdout",
     "output_type": "stream",
     "text": [
      "Accuracy: 0.39 (+/- 0.00)\n"
     ]
    }
   ],
   "source": [
    "# take the mean of 5 fold cross-validation score\n",
    "clf_cross_val_score = np.mean(cross_val_score(model, X,y,cv=5))\n",
    "print('Accuracy: %0.2f (+/- %0.2f)' % (np.mean(clf_cross_val_score), np.std(clf_cross_val_score)*2))"
   ]
  },
  {
   "cell_type": "code",
   "execution_count": 153,
   "metadata": {},
   "outputs": [
    {
     "data": {
      "text/plain": [
       "(0.7697534403324298, 0.3892175824102393)"
      ]
     },
     "execution_count": 153,
     "metadata": {},
     "output_type": "execute_result"
    }
   ],
   "source": [
    "# Compare Single score vs cross validation score \n",
    "model.score(X_train,y_train), clf_cross_val_score"
   ]
  },
  {
   "cell_type": "markdown",
   "metadata": {},
   "source": [
    "# 3. Random Forest Regressor Model"
   ]
  },
  {
   "cell_type": "code",
   "execution_count": 165,
   "metadata": {},
   "outputs": [
    {
     "data": {
      "text/plain": [
       "RandomForestRegressor(bootstrap=True, criterion='mse', max_depth=None,\n",
       "                      max_features='auto', max_leaf_nodes=None,\n",
       "                      min_impurity_decrease=0.0, min_impurity_split=None,\n",
       "                      min_samples_leaf=1, min_samples_split=2,\n",
       "                      min_weight_fraction_leaf=0.0, n_estimators=100,\n",
       "                      n_jobs=None, oob_score=False, random_state=None,\n",
       "                      verbose=0, warm_start=False)"
      ]
     },
     "execution_count": 165,
     "metadata": {},
     "output_type": "execute_result"
    }
   ],
   "source": [
    "from sklearn.ensemble import RandomForestRegressor\n",
    "from sklearn.model_selection import cross_val_score\n",
    "from sklearn.preprocessing import StandardScaler\n",
    "from sklearn.model_selection import train_test_split \n",
    "\n",
    "# create features\n",
    "X = bos.drop('PRICE', axis=1)\n",
    "y = bos['PRICE']\n",
    "\n",
    "# Create a scaler object \n",
    "scaler = StandardScaler()\n",
    "\n",
    "# Scale the values\n",
    "# Fit the inputs (calculate the mean and standard deviation feature-wise)\n",
    "scaler.fit(X)\n",
    "\n",
    "# Scale the features and store them in a new variable (the actual scaling procedure)\n",
    "inputs_scaled = scaler.transform(X)\n",
    "\n",
    "# split data\n",
    "X_train, X_test, y_train, y_test = train_test_split(inputs_scaled,y,test_size=0.25, random_state=0)\n",
    "\n",
    "# instantiate the model \n",
    "rfr_model = RandomForestRegressor(n_estimators=100)\n",
    "\n",
    "rfr_model.fit(X_train,y_train)"
   ]
  },
  {
   "cell_type": "code",
   "execution_count": 166,
   "metadata": {},
   "outputs": [
    {
     "data": {
      "text/plain": [
       "0.984340565017142"
      ]
     },
     "execution_count": 166,
     "metadata": {},
     "output_type": "execute_result"
    }
   ],
   "source": [
    "# Single training and test split score\n",
    "rfr_model.score(X_train,y_train)"
   ]
  },
  {
   "cell_type": "code",
   "execution_count": 156,
   "metadata": {},
   "outputs": [
    {
     "data": {
      "text/plain": [
       "array([0.76746461, 0.84937492, 0.76246892, 0.4817861 , 0.30349647])"
      ]
     },
     "execution_count": 156,
     "metadata": {},
     "output_type": "execute_result"
    }
   ],
   "source": [
    "cross_val_score(rfr_model,inputs_scaled,y, cv=5) #cv = cross validation: trains 5 different versions of the model"
   ]
  },
  {
   "cell_type": "code",
   "execution_count": 163,
   "metadata": {},
   "outputs": [
    {
     "name": "stdout",
     "output_type": "stream",
     "text": [
      "Cross Fold AVG Accuracy: 0.48 (+/- 0.00)\n"
     ]
    }
   ],
   "source": [
    "clf_cross_val_score = np.mean(cross_val_score(rfr_model,inputs_scaled,y,cv=10)) \n",
    "print('Cross Fold AVG Accuracy: %0.2f (+/- %0.2f)' % (np.mean(clf_cross_val_score), np.std(clf_cross_val_score)*2))"
   ]
  },
  {
   "cell_type": "code",
   "execution_count": 164,
   "metadata": {},
   "outputs": [
    {
     "data": {
      "text/plain": [
       "(0.9829311762102321, 0.4767230849965376)"
      ]
     },
     "execution_count": 164,
     "metadata": {},
     "output_type": "execute_result"
    }
   ],
   "source": [
    "# Compare Single score vs cross validation score \n",
    "rfr_model.score(X_train,y_train), clf_cross_val_score"
   ]
  },
  {
   "cell_type": "code",
   "execution_count": null,
   "metadata": {},
   "outputs": [],
   "source": []
  }
 ],
 "metadata": {
  "kernelspec": {
   "display_name": "Python 3",
   "language": "python",
   "name": "python3"
  },
  "language_info": {
   "codemirror_mode": {
    "name": "ipython",
    "version": 3
   },
   "file_extension": ".py",
   "mimetype": "text/x-python",
   "name": "python",
   "nbconvert_exporter": "python",
   "pygments_lexer": "ipython3",
   "version": "3.7.6"
  }
 },
 "nbformat": 4,
 "nbformat_minor": 4
}
